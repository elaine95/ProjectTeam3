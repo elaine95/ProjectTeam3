{
  "nbformat": 4,
  "nbformat_minor": 0,
  "metadata": {
    "colab": {
      "name": "How_does_accreditation_type_affect_median_income_.ipynb",
      "provenance": [],
      "collapsed_sections": [],
      "toc_visible": true
    },
    "kernelspec": {
      "name": "python3",
      "display_name": "Python 3"
    }
  },
  "cells": [
    {
      "cell_type": "code",
      "metadata": {
        "id": "-iowB4dLHWV4",
        "colab_type": "code",
        "outputId": "7a7462d8-0f46-4855-ad28-72ccc37c47ce",
        "colab": {
          "base_uri": "https://localhost:8080/",
          "height": 71
        }
      },
      "source": [
        "import pandas as pd\n",
        "import numpy as np\n",
        "import matplotlib.pyplot as plt\n",
        "import seaborn as sns\n",
        "import zipfile"
      ],
      "execution_count": 1,
      "outputs": [
        {
          "output_type": "stream",
          "text": [
            "/usr/local/lib/python3.6/dist-packages/statsmodels/tools/_testing.py:19: FutureWarning: pandas.util.testing is deprecated. Use the functions in the public API at pandas.testing instead.\n",
            "  import pandas.util.testing as tm\n"
          ],
          "name": "stderr"
        }
      ]
    },
    {
      "cell_type": "code",
      "metadata": {
        "id": "ZDpFTJF9M0C5",
        "colab_type": "code",
        "outputId": "ef70e7e7-4dec-48f6-ffcd-80e545aad116",
        "colab": {
          "base_uri": "https://localhost:8080/",
          "height": 514
        }
      },
      "source": [
        "zf = zipfile.ZipFile('dataSet.zip') \n",
        "df = pd.read_csv(zf.open('37100122.csv'))\n",
        "df.head()"
      ],
      "execution_count": 2,
      "outputs": [
        {
          "output_type": "execute_result",
          "data": {
            "text/html": [
              "<div>\n",
              "<style scoped>\n",
              "    .dataframe tbody tr th:only-of-type {\n",
              "        vertical-align: middle;\n",
              "    }\n",
              "\n",
              "    .dataframe tbody tr th {\n",
              "        vertical-align: top;\n",
              "    }\n",
              "\n",
              "    .dataframe thead th {\n",
              "        text-align: right;\n",
              "    }\n",
              "</style>\n",
              "<table border=\"1\" class=\"dataframe\">\n",
              "  <thead>\n",
              "    <tr style=\"text-align: right;\">\n",
              "      <th></th>\n",
              "      <th>REF_DATE</th>\n",
              "      <th>GEO</th>\n",
              "      <th>DGUID</th>\n",
              "      <th>Educational qualification</th>\n",
              "      <th>Field of study</th>\n",
              "      <th>Gender</th>\n",
              "      <th>Age group</th>\n",
              "      <th>Status of student in Canada</th>\n",
              "      <th>Characteristics after graduation</th>\n",
              "      <th>Graduate statistics</th>\n",
              "      <th>UOM</th>\n",
              "      <th>UOM_ID</th>\n",
              "      <th>SCALAR_FACTOR</th>\n",
              "      <th>SCALAR_ID</th>\n",
              "      <th>VECTOR</th>\n",
              "      <th>COORDINATE</th>\n",
              "      <th>VALUE</th>\n",
              "      <th>STATUS</th>\n",
              "      <th>SYMBOL</th>\n",
              "      <th>TERMINATED</th>\n",
              "      <th>DECIMALS</th>\n",
              "    </tr>\n",
              "  </thead>\n",
              "  <tbody>\n",
              "    <tr>\n",
              "      <th>0</th>\n",
              "      <td>2010</td>\n",
              "      <td>Canada</td>\n",
              "      <td>2016A11124</td>\n",
              "      <td>Total, educational qualification</td>\n",
              "      <td>Total, field of study</td>\n",
              "      <td>Total, gender</td>\n",
              "      <td>15 to 64 years</td>\n",
              "      <td>Canadian and international students</td>\n",
              "      <td>All graduates</td>\n",
              "      <td>Number of graduates</td>\n",
              "      <td>Number</td>\n",
              "      <td>223</td>\n",
              "      <td>units</td>\n",
              "      <td>0</td>\n",
              "      <td>v1007918655</td>\n",
              "      <td>1.1.1.1.1.1.1.1</td>\n",
              "      <td>321930.0</td>\n",
              "      <td>NaN</td>\n",
              "      <td>NaN</td>\n",
              "      <td>NaN</td>\n",
              "      <td>0</td>\n",
              "    </tr>\n",
              "    <tr>\n",
              "      <th>1</th>\n",
              "      <td>2010</td>\n",
              "      <td>Canada</td>\n",
              "      <td>2016A11124</td>\n",
              "      <td>Total, educational qualification</td>\n",
              "      <td>Total, field of study</td>\n",
              "      <td>Total, gender</td>\n",
              "      <td>15 to 64 years</td>\n",
              "      <td>Canadian and international students</td>\n",
              "      <td>Graduates with no income information</td>\n",
              "      <td>Number of graduates</td>\n",
              "      <td>Number</td>\n",
              "      <td>223</td>\n",
              "      <td>units</td>\n",
              "      <td>0</td>\n",
              "      <td>v1007918656</td>\n",
              "      <td>1.1.1.1.1.1.2.1</td>\n",
              "      <td>57460.0</td>\n",
              "      <td>NaN</td>\n",
              "      <td>NaN</td>\n",
              "      <td>NaN</td>\n",
              "      <td>0</td>\n",
              "    </tr>\n",
              "    <tr>\n",
              "      <th>2</th>\n",
              "      <td>2010</td>\n",
              "      <td>Canada</td>\n",
              "      <td>2016A11124</td>\n",
              "      <td>Total, educational qualification</td>\n",
              "      <td>Total, field of study</td>\n",
              "      <td>Total, gender</td>\n",
              "      <td>15 to 64 years</td>\n",
              "      <td>Canadian and international students</td>\n",
              "      <td>Full-time students</td>\n",
              "      <td>Number of graduates</td>\n",
              "      <td>Number</td>\n",
              "      <td>223</td>\n",
              "      <td>units</td>\n",
              "      <td>0</td>\n",
              "      <td>v1007918657</td>\n",
              "      <td>1.1.1.1.1.1.3.1</td>\n",
              "      <td>50920.0</td>\n",
              "      <td>NaN</td>\n",
              "      <td>NaN</td>\n",
              "      <td>NaN</td>\n",
              "      <td>0</td>\n",
              "    </tr>\n",
              "    <tr>\n",
              "      <th>3</th>\n",
              "      <td>2010</td>\n",
              "      <td>Canada</td>\n",
              "      <td>2016A11124</td>\n",
              "      <td>Total, educational qualification</td>\n",
              "      <td>Total, field of study</td>\n",
              "      <td>Total, gender</td>\n",
              "      <td>15 to 64 years</td>\n",
              "      <td>Canadian and international students</td>\n",
              "      <td>Graduates reporting employment income</td>\n",
              "      <td>Number of graduates</td>\n",
              "      <td>Number</td>\n",
              "      <td>223</td>\n",
              "      <td>units</td>\n",
              "      <td>0</td>\n",
              "      <td>v1007918658</td>\n",
              "      <td>1.1.1.1.1.1.4.1</td>\n",
              "      <td>213545.0</td>\n",
              "      <td>NaN</td>\n",
              "      <td>NaN</td>\n",
              "      <td>NaN</td>\n",
              "      <td>0</td>\n",
              "    </tr>\n",
              "    <tr>\n",
              "      <th>4</th>\n",
              "      <td>2010</td>\n",
              "      <td>Canada</td>\n",
              "      <td>2016A11124</td>\n",
              "      <td>Total, educational qualification</td>\n",
              "      <td>Total, field of study</td>\n",
              "      <td>Total, gender</td>\n",
              "      <td>15 to 64 years</td>\n",
              "      <td>Canadian and international students</td>\n",
              "      <td>Graduates reporting wages, salaries and commis...</td>\n",
              "      <td>Number of graduates</td>\n",
              "      <td>Number</td>\n",
              "      <td>223</td>\n",
              "      <td>units</td>\n",
              "      <td>0</td>\n",
              "      <td>v1007918659</td>\n",
              "      <td>1.1.1.1.1.1.5.1</td>\n",
              "      <td>190120.0</td>\n",
              "      <td>NaN</td>\n",
              "      <td>NaN</td>\n",
              "      <td>NaN</td>\n",
              "      <td>0</td>\n",
              "    </tr>\n",
              "  </tbody>\n",
              "</table>\n",
              "</div>"
            ],
            "text/plain": [
              "   REF_DATE     GEO       DGUID  ... SYMBOL TERMINATED DECIMALS\n",
              "0      2010  Canada  2016A11124  ...    NaN        NaN        0\n",
              "1      2010  Canada  2016A11124  ...    NaN        NaN        0\n",
              "2      2010  Canada  2016A11124  ...    NaN        NaN        0\n",
              "3      2010  Canada  2016A11124  ...    NaN        NaN        0\n",
              "4      2010  Canada  2016A11124  ...    NaN        NaN        0\n",
              "\n",
              "[5 rows x 21 columns]"
            ]
          },
          "metadata": {
            "tags": []
          },
          "execution_count": 2
        }
      ]
    },
    {
      "cell_type": "code",
      "metadata": {
        "id": "FxjvM3CprOYt",
        "colab_type": "code",
        "outputId": "65f8cc22-81e0-4857-b225-f98e7aef5590",
        "colab": {
          "base_uri": "https://localhost:8080/",
          "height": 120
        }
      },
      "source": [
        "df.columns"
      ],
      "execution_count": 3,
      "outputs": [
        {
          "output_type": "execute_result",
          "data": {
            "text/plain": [
              "Index(['REF_DATE', 'GEO', 'DGUID', 'Educational qualification',\n",
              "       'Field of study', 'Gender', 'Age group', 'Status of student in Canada',\n",
              "       'Characteristics after graduation', 'Graduate statistics', 'UOM',\n",
              "       'UOM_ID', 'SCALAR_FACTOR', 'SCALAR_ID', 'VECTOR', 'COORDINATE', 'VALUE',\n",
              "       'STATUS', 'SYMBOL', 'TERMINATED', 'DECIMALS'],\n",
              "      dtype='object')"
            ]
          },
          "metadata": {
            "tags": []
          },
          "execution_count": 3
        }
      ]
    },
    {
      "cell_type": "code",
      "metadata": {
        "id": "fmKJbOY2UeYT",
        "colab_type": "code",
        "colab": {}
      },
      "source": [
        "vGraduate_statistics = ['Graduates reporting employment income','Graduates reporting wages, salaries and commissions only']\n",
        "df = df.loc[df['Characteristics after graduation'].isin(vGraduate_statistics)]\n",
        "df = df.loc[df['Graduate statistics'] == 'Median employment income']\n"
      ],
      "execution_count": 0,
      "outputs": []
    },
    {
      "cell_type": "code",
      "metadata": {
        "id": "nDRyJy9rM76G",
        "colab_type": "code",
        "colab": {}
      },
      "source": [
        "df = df.rename({'Educational qualification':'Accreditation_type'},axis=1)\n",
        "df = df.rename({'VALUE':'Income'},axis=1) #rename relevant columns"
      ],
      "execution_count": 0,
      "outputs": []
    },
    {
      "cell_type": "code",
      "metadata": {
        "id": "RL7LXQ8grcu3",
        "colab_type": "code",
        "outputId": "d72e61ec-50c1-4b5d-c967-6ba54b2b9e13",
        "colab": {
          "base_uri": "https://localhost:8080/",
          "height": 120
        }
      },
      "source": [
        "df.columns"
      ],
      "execution_count": 6,
      "outputs": [
        {
          "output_type": "execute_result",
          "data": {
            "text/plain": [
              "Index(['REF_DATE', 'GEO', 'DGUID', 'Accreditation_type', 'Field of study',\n",
              "       'Gender', 'Age group', 'Status of student in Canada',\n",
              "       'Characteristics after graduation', 'Graduate statistics', 'UOM',\n",
              "       'UOM_ID', 'SCALAR_FACTOR', 'SCALAR_ID', 'VECTOR', 'COORDINATE',\n",
              "       'Income', 'STATUS', 'SYMBOL', 'TERMINATED', 'DECIMALS'],\n",
              "      dtype='object')"
            ]
          },
          "metadata": {
            "tags": []
          },
          "execution_count": 6
        }
      ]
    },
    {
      "cell_type": "code",
      "metadata": {
        "id": "FAxcLInXQrAz",
        "colab_type": "code",
        "outputId": "9f7c2f55-2d6a-47b6-9f9a-3779d51e004f",
        "colab": {
          "base_uri": "https://localhost:8080/",
          "height": 379
        }
      },
      "source": [
        "df.Accreditation_type.unique() #find all possible accreditation types"
      ],
      "execution_count": 7,
      "outputs": [
        {
          "output_type": "execute_result",
          "data": {
            "text/plain": [
              "array(['Career, technical or professional training short credential',\n",
              "       'Career, technical or professional training certificate',\n",
              "       'Career, technical or professional training diploma',\n",
              "       'Other career, technical or professional training credential',\n",
              "       'Post career, technical or professional training program certificate',\n",
              "       'Post career, technical or professional training program diploma',\n",
              "       'Pre-university certificate', 'Undergraduate certificate',\n",
              "       'Undergraduate associate degree', 'Undergraduate diploma',\n",
              "       'Undergraduate degree',\n",
              "       'Post-baccalaureate non-graduate certificate',\n",
              "       'Post-baccalaureate non-graduate diploma',\n",
              "       'Post-baccalaureate non-graduate degree', 'Professional degree',\n",
              "       'Health-related residency program certificate',\n",
              "       'Health-related residency program diploma', \"Master's certificate\",\n",
              "       \"Master's diploma\", \"Master's degree\",\n",
              "       \"Other master's-level credential\", 'Doctoral-level certificate',\n",
              "       'Doctoral-level diploma', 'Doctoral degree',\n",
              "       'Post-doctoral diploma', 'Other postsecondary certificate',\n",
              "       'Other postsecondary diploma', 'Other postsecondary degree',\n",
              "       'Post career, technical or professional training program short credential',\n",
              "       'Other undergraduate credential'], dtype=object)"
            ]
          },
          "metadata": {
            "tags": []
          },
          "execution_count": 7
        }
      ]
    },
    {
      "cell_type": "code",
      "metadata": {
        "id": "XLhsGRBORyT-",
        "colab_type": "code",
        "outputId": "6c2b37f8-3076-44f3-abf4-86746f80a5fd",
        "colab": {
          "base_uri": "https://localhost:8080/",
          "height": 201
        }
      },
      "source": [
        "#Create new DataFrame with only relevant columns\n",
        "df = pd.DataFrame(df[['Accreditation_type','Income']])\n",
        "df.head()"
      ],
      "execution_count": 8,
      "outputs": [
        {
          "output_type": "execute_result",
          "data": {
            "text/html": [
              "<div>\n",
              "<style scoped>\n",
              "    .dataframe tbody tr th:only-of-type {\n",
              "        vertical-align: middle;\n",
              "    }\n",
              "\n",
              "    .dataframe tbody tr th {\n",
              "        vertical-align: top;\n",
              "    }\n",
              "\n",
              "    .dataframe thead th {\n",
              "        text-align: right;\n",
              "    }\n",
              "</style>\n",
              "<table border=\"1\" class=\"dataframe\">\n",
              "  <thead>\n",
              "    <tr style=\"text-align: right;\">\n",
              "      <th></th>\n",
              "      <th>Accreditation_type</th>\n",
              "      <th>Income</th>\n",
              "    </tr>\n",
              "  </thead>\n",
              "  <tbody>\n",
              "    <tr>\n",
              "      <th>5263</th>\n",
              "      <td>Career, technical or professional training sho...</td>\n",
              "      <td>35100.0</td>\n",
              "    </tr>\n",
              "    <tr>\n",
              "      <th>5265</th>\n",
              "      <td>Career, technical or professional training sho...</td>\n",
              "      <td>36700.0</td>\n",
              "    </tr>\n",
              "    <tr>\n",
              "      <th>5270</th>\n",
              "      <td>Career, technical or professional training sho...</td>\n",
              "      <td>35200.0</td>\n",
              "    </tr>\n",
              "    <tr>\n",
              "      <th>5272</th>\n",
              "      <td>Career, technical or professional training sho...</td>\n",
              "      <td>36800.0</td>\n",
              "    </tr>\n",
              "    <tr>\n",
              "      <th>5277</th>\n",
              "      <td>Career, technical or professional training sho...</td>\n",
              "      <td>33900.0</td>\n",
              "    </tr>\n",
              "  </tbody>\n",
              "</table>\n",
              "</div>"
            ],
            "text/plain": [
              "                                     Accreditation_type   Income\n",
              "5263  Career, technical or professional training sho...  35100.0\n",
              "5265  Career, technical or professional training sho...  36700.0\n",
              "5270  Career, technical or professional training sho...  35200.0\n",
              "5272  Career, technical or professional training sho...  36800.0\n",
              "5277  Career, technical or professional training sho...  33900.0"
            ]
          },
          "metadata": {
            "tags": []
          },
          "execution_count": 8
        }
      ]
    },
    {
      "cell_type": "code",
      "metadata": {
        "id": "cmgZq0JPUaF5",
        "colab_type": "code",
        "outputId": "6a8ed3a5-e05e-4d1b-e7bb-5f84677668fc",
        "colab": {
          "base_uri": "https://localhost:8080/",
          "height": 201
        }
      },
      "source": [
        "#Create new DataFrame for all certificate programs except Master's and Doctoral certificates\n",
        "certificate =  df[(df['Accreditation_type']=='Career, technical or professional training certificate') | \n",
        "          (df['Accreditation_type']=='Post career, technical or professional training program certificate') |\n",
        "          (df['Accreditation_type']=='Pre-university certificate') |\n",
        "          (df['Accreditation_type']=='Undergraduate certificate') |\n",
        "          (df['Accreditation_type']=='Post-baccalaureate non-graduate certificate') |\n",
        "          (df['Accreditation_type']=='Health-related residency program certificate') |\n",
        "          (df['Accreditation_type']=='Other postsecondary certificate')]\n",
        "            \n",
        "certificate = certificate.dropna()\n",
        "certificate.head()\n",
        "                      "
      ],
      "execution_count": 9,
      "outputs": [
        {
          "output_type": "execute_result",
          "data": {
            "text/html": [
              "<div>\n",
              "<style scoped>\n",
              "    .dataframe tbody tr th:only-of-type {\n",
              "        vertical-align: middle;\n",
              "    }\n",
              "\n",
              "    .dataframe tbody tr th {\n",
              "        vertical-align: top;\n",
              "    }\n",
              "\n",
              "    .dataframe thead th {\n",
              "        text-align: right;\n",
              "    }\n",
              "</style>\n",
              "<table border=\"1\" class=\"dataframe\">\n",
              "  <thead>\n",
              "    <tr style=\"text-align: right;\">\n",
              "      <th></th>\n",
              "      <th>Accreditation_type</th>\n",
              "      <th>Income</th>\n",
              "    </tr>\n",
              "  </thead>\n",
              "  <tbody>\n",
              "    <tr>\n",
              "      <th>9853</th>\n",
              "      <td>Career, technical or professional training cer...</td>\n",
              "      <td>37100.0</td>\n",
              "    </tr>\n",
              "    <tr>\n",
              "      <th>9855</th>\n",
              "      <td>Career, technical or professional training cer...</td>\n",
              "      <td>37700.0</td>\n",
              "    </tr>\n",
              "    <tr>\n",
              "      <th>9860</th>\n",
              "      <td>Career, technical or professional training cer...</td>\n",
              "      <td>37100.0</td>\n",
              "    </tr>\n",
              "    <tr>\n",
              "      <th>9862</th>\n",
              "      <td>Career, technical or professional training cer...</td>\n",
              "      <td>37800.0</td>\n",
              "    </tr>\n",
              "    <tr>\n",
              "      <th>9867</th>\n",
              "      <td>Career, technical or professional training cer...</td>\n",
              "      <td>35900.0</td>\n",
              "    </tr>\n",
              "  </tbody>\n",
              "</table>\n",
              "</div>"
            ],
            "text/plain": [
              "                                     Accreditation_type   Income\n",
              "9853  Career, technical or professional training cer...  37100.0\n",
              "9855  Career, technical or professional training cer...  37700.0\n",
              "9860  Career, technical or professional training cer...  37100.0\n",
              "9862  Career, technical or professional training cer...  37800.0\n",
              "9867  Career, technical or professional training cer...  35900.0"
            ]
          },
          "metadata": {
            "tags": []
          },
          "execution_count": 9
        }
      ]
    },
    {
      "cell_type": "code",
      "metadata": {
        "id": "V8DveX-P_KkS",
        "colab_type": "code",
        "outputId": "a9e01e1a-77a5-478f-bb57-002eb741c684",
        "colab": {
          "base_uri": "https://localhost:8080/",
          "height": 34
        }
      },
      "source": [
        "#Find average income of all certificate programs\n",
        "A = certificate['Income'].median()\n",
        "print (A)"
      ],
      "execution_count": 10,
      "outputs": [
        {
          "output_type": "stream",
          "text": [
            "40000.0\n"
          ],
          "name": "stdout"
        }
      ]
    },
    {
      "cell_type": "code",
      "metadata": {
        "id": "-59Nwpt3CK-Z",
        "colab_type": "code",
        "outputId": "e1e0422a-090f-4b8b-cc4a-aaa4c01040bc",
        "colab": {
          "base_uri": "https://localhost:8080/",
          "height": 201
        }
      },
      "source": [
        "#Create new DataFrame for all diploma programs except Doctoral programs\n",
        "diploma =  df[(df['Accreditation_type']=='Career, technical or professional training diploma') | \n",
        "          (df['Accreditation_type']=='Post career, technical or professional training program diploma') |\n",
        "          (df['Accreditation_type']=='Undergraduate diploma') |\n",
        "          (df['Accreditation_type']=='Post-baccalaureate non-graduate diploma') |\n",
        "          (df['Accreditation_type']=='Health-related residency program diploma') |\n",
        "          (df['Accreditation_type']=='Other postsecondary diploma')]\n",
        "\n",
        "diploma = diploma.dropna()\n",
        "diploma.head()"
      ],
      "execution_count": 11,
      "outputs": [
        {
          "output_type": "execute_result",
          "data": {
            "text/html": [
              "<div>\n",
              "<style scoped>\n",
              "    .dataframe tbody tr th:only-of-type {\n",
              "        vertical-align: middle;\n",
              "    }\n",
              "\n",
              "    .dataframe tbody tr th {\n",
              "        vertical-align: top;\n",
              "    }\n",
              "\n",
              "    .dataframe thead th {\n",
              "        text-align: right;\n",
              "    }\n",
              "</style>\n",
              "<table border=\"1\" class=\"dataframe\">\n",
              "  <thead>\n",
              "    <tr style=\"text-align: right;\">\n",
              "      <th></th>\n",
              "      <th>Accreditation_type</th>\n",
              "      <th>Income</th>\n",
              "    </tr>\n",
              "  </thead>\n",
              "  <tbody>\n",
              "    <tr>\n",
              "      <th>15004</th>\n",
              "      <td>Career, technical or professional training dip...</td>\n",
              "      <td>39700.0</td>\n",
              "    </tr>\n",
              "    <tr>\n",
              "      <th>15006</th>\n",
              "      <td>Career, technical or professional training dip...</td>\n",
              "      <td>40400.0</td>\n",
              "    </tr>\n",
              "    <tr>\n",
              "      <th>15011</th>\n",
              "      <td>Career, technical or professional training dip...</td>\n",
              "      <td>39900.0</td>\n",
              "    </tr>\n",
              "    <tr>\n",
              "      <th>15013</th>\n",
              "      <td>Career, technical or professional training dip...</td>\n",
              "      <td>40700.0</td>\n",
              "    </tr>\n",
              "    <tr>\n",
              "      <th>15018</th>\n",
              "      <td>Career, technical or professional training dip...</td>\n",
              "      <td>39100.0</td>\n",
              "    </tr>\n",
              "  </tbody>\n",
              "</table>\n",
              "</div>"
            ],
            "text/plain": [
              "                                      Accreditation_type   Income\n",
              "15004  Career, technical or professional training dip...  39700.0\n",
              "15006  Career, technical or professional training dip...  40400.0\n",
              "15011  Career, technical or professional training dip...  39900.0\n",
              "15013  Career, technical or professional training dip...  40700.0\n",
              "15018  Career, technical or professional training dip...  39100.0"
            ]
          },
          "metadata": {
            "tags": []
          },
          "execution_count": 11
        }
      ]
    },
    {
      "cell_type": "code",
      "metadata": {
        "id": "GtYjIvyFDSIy",
        "colab_type": "code",
        "outputId": "e5c1a812-59c6-4838-d683-4cbe151530fd",
        "colab": {
          "base_uri": "https://localhost:8080/",
          "height": 34
        }
      },
      "source": [
        "#Find average income of all diploma programs\n",
        "B=diploma['Income'].median()\n",
        "print(B)"
      ],
      "execution_count": 12,
      "outputs": [
        {
          "output_type": "stream",
          "text": [
            "41500.0\n"
          ],
          "name": "stdout"
        }
      ]
    },
    {
      "cell_type": "code",
      "metadata": {
        "id": "OKSzH8gmEKyT",
        "colab_type": "code",
        "outputId": "0dad1776-8e0d-4b45-f9ec-145ade12356a",
        "colab": {
          "base_uri": "https://localhost:8080/",
          "height": 201
        }
      },
      "source": [
        "#Create new DataFrame for all non-graduate level degree programs\n",
        "degree =  df[(df['Accreditation_type']=='Undergraduate associate degree') | \n",
        "          (df['Accreditation_type']=='Undergraduate degree') |\n",
        "          (df['Accreditation_type']=='Post-baccalaureate non-graduate degree') |\n",
        "          (df['Accreditation_type']=='Professional degree') |\n",
        "          (df['Accreditation_type']=='Other postsecondary degree')]\n",
        "\n",
        "degree = degree.dropna()\n",
        "degree.head()"
      ],
      "execution_count": 13,
      "outputs": [
        {
          "output_type": "execute_result",
          "data": {
            "text/html": [
              "<div>\n",
              "<style scoped>\n",
              "    .dataframe tbody tr th:only-of-type {\n",
              "        vertical-align: middle;\n",
              "    }\n",
              "\n",
              "    .dataframe tbody tr th {\n",
              "        vertical-align: top;\n",
              "    }\n",
              "\n",
              "    .dataframe thead th {\n",
              "        text-align: right;\n",
              "    }\n",
              "</style>\n",
              "<table border=\"1\" class=\"dataframe\">\n",
              "  <thead>\n",
              "    <tr style=\"text-align: right;\">\n",
              "      <th></th>\n",
              "      <th>Accreditation_type</th>\n",
              "      <th>Income</th>\n",
              "    </tr>\n",
              "  </thead>\n",
              "  <tbody>\n",
              "    <tr>\n",
              "      <th>31414</th>\n",
              "      <td>Undergraduate associate degree</td>\n",
              "      <td>26300.0</td>\n",
              "    </tr>\n",
              "    <tr>\n",
              "      <th>31416</th>\n",
              "      <td>Undergraduate associate degree</td>\n",
              "      <td>26700.0</td>\n",
              "    </tr>\n",
              "    <tr>\n",
              "      <th>31421</th>\n",
              "      <td>Undergraduate associate degree</td>\n",
              "      <td>26500.0</td>\n",
              "    </tr>\n",
              "    <tr>\n",
              "      <th>31423</th>\n",
              "      <td>Undergraduate associate degree</td>\n",
              "      <td>27400.0</td>\n",
              "    </tr>\n",
              "    <tr>\n",
              "      <th>31428</th>\n",
              "      <td>Undergraduate associate degree</td>\n",
              "      <td>26300.0</td>\n",
              "    </tr>\n",
              "  </tbody>\n",
              "</table>\n",
              "</div>"
            ],
            "text/plain": [
              "                   Accreditation_type   Income\n",
              "31414  Undergraduate associate degree  26300.0\n",
              "31416  Undergraduate associate degree  26700.0\n",
              "31421  Undergraduate associate degree  26500.0\n",
              "31423  Undergraduate associate degree  27400.0\n",
              "31428  Undergraduate associate degree  26300.0"
            ]
          },
          "metadata": {
            "tags": []
          },
          "execution_count": 13
        }
      ]
    },
    {
      "cell_type": "code",
      "metadata": {
        "id": "DvHuN4npGBPQ",
        "colab_type": "code",
        "outputId": "40e88ce9-918e-46de-dc9a-24d2ea1b4879",
        "colab": {
          "base_uri": "https://localhost:8080/",
          "height": 34
        }
      },
      "source": [
        "#Find average income of all degree programs\n",
        "C=degree['Income'].median()\n",
        "print (C)"
      ],
      "execution_count": 14,
      "outputs": [
        {
          "output_type": "stream",
          "text": [
            "45200.0\n"
          ],
          "name": "stdout"
        }
      ]
    },
    {
      "cell_type": "code",
      "metadata": {
        "id": "lUlP7eYAGIdA",
        "colab_type": "code",
        "outputId": "adbae39c-7e71-48f6-ff7f-83aab053c5eb",
        "colab": {
          "base_uri": "https://localhost:8080/",
          "height": 201
        }
      },
      "source": [
        "#Create new DataFrame for all Master's programs\n",
        "masters =  df[(df['Accreditation_type']==\"Master's certificate\") | \n",
        "          (df['Accreditation_type']==\"Master's diploma\") |\n",
        "          (df['Accreditation_type']==\"Master's degree\") |\n",
        "          (df['Accreditation_type']==\"Other master's-level credential\")]\n",
        "\n",
        "masters = masters.dropna()\n",
        "masters.head()\n"
      ],
      "execution_count": 15,
      "outputs": [
        {
          "output_type": "execute_result",
          "data": {
            "text/html": [
              "<div>\n",
              "<style scoped>\n",
              "    .dataframe tbody tr th:only-of-type {\n",
              "        vertical-align: middle;\n",
              "    }\n",
              "\n",
              "    .dataframe tbody tr th {\n",
              "        vertical-align: top;\n",
              "    }\n",
              "\n",
              "    .dataframe thead th {\n",
              "        text-align: right;\n",
              "    }\n",
              "</style>\n",
              "<table border=\"1\" class=\"dataframe\">\n",
              "  <thead>\n",
              "    <tr style=\"text-align: right;\">\n",
              "      <th></th>\n",
              "      <th>Accreditation_type</th>\n",
              "      <th>Income</th>\n",
              "    </tr>\n",
              "  </thead>\n",
              "  <tbody>\n",
              "    <tr>\n",
              "      <th>49095</th>\n",
              "      <td>Master's certificate</td>\n",
              "      <td>74800.0</td>\n",
              "    </tr>\n",
              "    <tr>\n",
              "      <th>49097</th>\n",
              "      <td>Master's certificate</td>\n",
              "      <td>79200.0</td>\n",
              "    </tr>\n",
              "    <tr>\n",
              "      <th>49102</th>\n",
              "      <td>Master's certificate</td>\n",
              "      <td>75200.0</td>\n",
              "    </tr>\n",
              "    <tr>\n",
              "      <th>49104</th>\n",
              "      <td>Master's certificate</td>\n",
              "      <td>80300.0</td>\n",
              "    </tr>\n",
              "    <tr>\n",
              "      <th>49109</th>\n",
              "      <td>Master's certificate</td>\n",
              "      <td>61600.0</td>\n",
              "    </tr>\n",
              "  </tbody>\n",
              "</table>\n",
              "</div>"
            ],
            "text/plain": [
              "         Accreditation_type   Income\n",
              "49095  Master's certificate  74800.0\n",
              "49097  Master's certificate  79200.0\n",
              "49102  Master's certificate  75200.0\n",
              "49104  Master's certificate  80300.0\n",
              "49109  Master's certificate  61600.0"
            ]
          },
          "metadata": {
            "tags": []
          },
          "execution_count": 15
        }
      ]
    },
    {
      "cell_type": "code",
      "metadata": {
        "id": "JZEPhaOkG1cr",
        "colab_type": "code",
        "outputId": "2adaf432-8e95-4145-8b92-b73b5101fe63",
        "colab": {
          "base_uri": "https://localhost:8080/",
          "height": 34
        }
      },
      "source": [
        "#Find average income of all Master's programs\n",
        "D=masters['Income'].median()\n",
        "print(D)"
      ],
      "execution_count": 16,
      "outputs": [
        {
          "output_type": "stream",
          "text": [
            "63300.0\n"
          ],
          "name": "stdout"
        }
      ]
    },
    {
      "cell_type": "code",
      "metadata": {
        "id": "vjPR6qWqG6v8",
        "colab_type": "code",
        "outputId": "f93b0e2d-7e1e-47b7-e8c0-31db14615ad7",
        "colab": {
          "base_uri": "https://localhost:8080/",
          "height": 201
        }
      },
      "source": [
        "#Create new DataFrame for all Doctoral programs\n",
        "doctoral =  df[(df['Accreditation_type']=='Doctoral-level certificate') | \n",
        "          (df['Accreditation_type']=='Doctoral-level diploma') |\n",
        "          (df['Accreditation_type']=='Doctoral degree')]\n",
        "\n",
        "doctoral = doctoral.dropna()\n",
        "doctoral.head()"
      ],
      "execution_count": 17,
      "outputs": [
        {
          "output_type": "execute_result",
          "data": {
            "text/html": [
              "<div>\n",
              "<style scoped>\n",
              "    .dataframe tbody tr th:only-of-type {\n",
              "        vertical-align: middle;\n",
              "    }\n",
              "\n",
              "    .dataframe tbody tr th {\n",
              "        vertical-align: top;\n",
              "    }\n",
              "\n",
              "    .dataframe thead th {\n",
              "        text-align: right;\n",
              "    }\n",
              "</style>\n",
              "<table border=\"1\" class=\"dataframe\">\n",
              "  <thead>\n",
              "    <tr style=\"text-align: right;\">\n",
              "      <th></th>\n",
              "      <th>Accreditation_type</th>\n",
              "      <th>Income</th>\n",
              "    </tr>\n",
              "  </thead>\n",
              "  <tbody>\n",
              "    <tr>\n",
              "      <th>62840</th>\n",
              "      <td>Doctoral-level diploma</td>\n",
              "      <td>96300.0</td>\n",
              "    </tr>\n",
              "    <tr>\n",
              "      <th>62842</th>\n",
              "      <td>Doctoral-level diploma</td>\n",
              "      <td>89600.0</td>\n",
              "    </tr>\n",
              "    <tr>\n",
              "      <th>62847</th>\n",
              "      <td>Doctoral-level diploma</td>\n",
              "      <td>96300.0</td>\n",
              "    </tr>\n",
              "    <tr>\n",
              "      <th>62849</th>\n",
              "      <td>Doctoral-level diploma</td>\n",
              "      <td>89600.0</td>\n",
              "    </tr>\n",
              "    <tr>\n",
              "      <th>63714</th>\n",
              "      <td>Doctoral degree</td>\n",
              "      <td>66500.0</td>\n",
              "    </tr>\n",
              "  </tbody>\n",
              "</table>\n",
              "</div>"
            ],
            "text/plain": [
              "           Accreditation_type   Income\n",
              "62840  Doctoral-level diploma  96300.0\n",
              "62842  Doctoral-level diploma  89600.0\n",
              "62847  Doctoral-level diploma  96300.0\n",
              "62849  Doctoral-level diploma  89600.0\n",
              "63714         Doctoral degree  66500.0"
            ]
          },
          "metadata": {
            "tags": []
          },
          "execution_count": 17
        }
      ]
    },
    {
      "cell_type": "code",
      "metadata": {
        "id": "yUr2mVK-HZwK",
        "colab_type": "code",
        "outputId": "7988b5fa-3453-4d2d-8e0f-1778ec90fda0",
        "colab": {
          "base_uri": "https://localhost:8080/",
          "height": 34
        }
      },
      "source": [
        "#Find average income of all Doctoral programs\n",
        "E=doctoral['Income'].median()\n",
        "print (E)"
      ],
      "execution_count": 18,
      "outputs": [
        {
          "output_type": "stream",
          "text": [
            "67000.0\n"
          ],
          "name": "stdout"
        }
      ]
    },
    {
      "cell_type": "code",
      "metadata": {
        "id": "n8LXPjSOHhCl",
        "colab_type": "code",
        "outputId": "ea44a6c4-d4e1-41cc-e280-b54118884b72",
        "colab": {
          "base_uri": "https://localhost:8080/",
          "height": 298
        }
      },
      "source": [
        "#Chart of average income based on accreditation type\n",
        "objects = ('Certificate', 'Diploma', 'Degree', \"Master's\", 'Doctoral')\n",
        "y_pos = np.arange(len(objects))\n",
        "performance = [A,B,C,D,E]\n",
        "\n",
        "plt.bar(y_pos, performance, align='center', alpha=0.5)\n",
        "plt.xticks(y_pos, objects)\n",
        "plt.ylabel('Median Income')\n",
        "plt.title('Median Income Based on Accreditation Type')"
      ],
      "execution_count": 19,
      "outputs": [
        {
          "output_type": "execute_result",
          "data": {
            "text/plain": [
              "Text(0.5, 1.0, 'Median Income Based on Accreditation Type')"
            ]
          },
          "metadata": {
            "tags": []
          },
          "execution_count": 19
        },
        {
          "output_type": "display_data",
          "data": {
            "image/png": "[encoded data removed]",
            "text/plain": [
              "<Figure size 432x288 with 1 Axes>"
            ]
          },
          "metadata": {
            "tags": [],
            "needs_background": "light"
          }
        }
      ]
    },
    {
      "cell_type": "markdown",
      "metadata": {
        "id": "WBZu53DyVRSH",
        "colab_type": "text"
      },
      "source": [
        "#Conclusion\n",
        "Accreditation type does affect the new graduate's median income. And from the graph we can see that higher education tends to have higher median income in general, and Doctoral and Master are much higher than certificcate, Diploma and Degree type."
      ]
    }
  ]
}