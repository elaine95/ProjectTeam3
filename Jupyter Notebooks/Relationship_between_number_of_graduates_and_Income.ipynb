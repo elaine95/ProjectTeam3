{
  "nbformat": 4,
  "nbformat_minor": 0,
  "metadata": {
    "colab": {
      "name": "Relationship between number of graduates and Income.ipynb",
      "provenance": [],
      "collapsed_sections": []
    },
    "kernelspec": {
      "name": "python3",
      "display_name": "Python 3"
    }
  },
  "cells": [
    {
      "cell_type": "code",
      "metadata": {
        "id": "GblUx02gKN8g",
        "colab_type": "code",
        "outputId": "1f9089f0-678e-460b-f625-ff1d32e568f6",
        "colab": {
          "base_uri": "https://localhost:8080/",
          "height": 71
        }
      },
      "source": [
        "import numpy as np\n",
        "import pandas as pd\n",
        "import zipfile\n",
        "import matplotlib.pyplot as plt\n",
        "import seaborn as sns"
      ],
      "execution_count": 0,
      "outputs": [
        {
          "output_type": "stream",
          "text": [
            "/usr/local/lib/python3.6/dist-packages/statsmodels/tools/_testing.py:19: FutureWarning: pandas.util.testing is deprecated. Use the functions in the public API at pandas.testing instead.\n",
            "  import pandas.util.testing as tm\n"
          ],
          "name": "stderr"
        }
      ]
    },
    {
      "cell_type": "code",
      "metadata": {
        "id": "AflfB3piMnHL",
        "colab_type": "code",
        "colab": {}
      },
      "source": [
        "zf = zipfile.ZipFile('dataSet.zip') \n",
        "df = pd.read_csv(zf.open('37100122.csv'))"
      ],
      "execution_count": 0,
      "outputs": []
    },
    {
      "cell_type": "markdown",
      "metadata": {
        "id": "xiI5pY7vv7yc",
        "colab_type": "text"
      },
      "source": [
        "# Relationship of Number of Graduates and Income "
      ]
    },
    {
      "cell_type": "code",
      "metadata": {
        "id": "V3A872c8Lhrt",
        "colab_type": "code",
        "outputId": "dcc3d1f4-8f1a-4721-8eb4-c68e16c4786a",
        "colab": {
          "base_uri": "https://localhost:8080/",
          "height": 119
        }
      },
      "source": [
        "df.columns"
      ],
      "execution_count": 0,
      "outputs": [
        {
          "output_type": "execute_result",
          "data": {
            "text/plain": [
              "Index(['REF_DATE', 'GEO', 'DGUID', 'Educational qualification',\n",
              "       'Field of study', 'Gender', 'Age group', 'Status of student in Canada',\n",
              "       'Characteristics after graduation', 'Graduate statistics', 'UOM',\n",
              "       'UOM_ID', 'SCALAR_FACTOR', 'SCALAR_ID', 'VECTOR', 'COORDINATE', 'VALUE',\n",
              "       'STATUS', 'SYMBOL', 'TERMINATED', 'DECIMALS'],\n",
              "      dtype='object')"
            ]
          },
          "metadata": {
            "tags": []
          },
          "execution_count": 133
        }
      ]
    },
    {
      "cell_type": "code",
      "metadata": {
        "id": "3YZiYJ6dfmJB",
        "colab_type": "code",
        "colab": {}
      },
      "source": [
        "#Geting relevant data\n",
        "df = pd.DataFrame(df[['REF_DATE','Gender','Age group','Field of study','Characteristics after graduation','Graduate statistics','VALUE','STATUS']])"
      ],
      "execution_count": 0,
      "outputs": []
    },
    {
      "cell_type": "markdown",
      "metadata": {
        "id": "5OLXbLeS6EPA",
        "colab_type": "text"
      },
      "source": [
        "# Cleaning Data"
      ]
    },
    {
      "cell_type": "code",
      "metadata": {
        "id": "oGXCWA67fh8u",
        "colab_type": "code",
        "outputId": "041f963d-0bbc-465a-dca1-0257e44c666a",
        "colab": {
          "base_uri": "https://localhost:8080/",
          "height": 170
        }
      },
      "source": [
        "NaN_value = df.isnull().sum().sort_values(ascending = False)\n",
        "NaN_value"
      ],
      "execution_count": 0,
      "outputs": [
        {
          "output_type": "execute_result",
          "data": {
            "text/plain": [
              "STATUS                              1835674\n",
              "VALUE                                353633\n",
              "Graduate statistics                       0\n",
              "Characteristics after graduation          0\n",
              "Field of study                            0\n",
              "Age group                                 0\n",
              "Gender                                    0\n",
              "REF_DATE                                  0\n",
              "dtype: int64"
            ]
          },
          "metadata": {
            "tags": []
          },
          "execution_count": 135
        }
      ]
    },
    {
      "cell_type": "code",
      "metadata": {
        "id": "8-FYMdCW48bI",
        "colab_type": "code",
        "outputId": "9130fe3f-05e6-4a12-effb-ece6a46f84a0",
        "colab": {
          "base_uri": "https://localhost:8080/",
          "height": 68
        }
      },
      "source": [
        "df['STATUS'].value_counts()"
      ],
      "execution_count": 0,
      "outputs": [
        {
          "output_type": "execute_result",
          "data": {
            "text/plain": [
              "x     323799\n",
              "..     29834\n",
              "Name: STATUS, dtype: int64"
            ]
          },
          "metadata": {
            "tags": []
          },
          "execution_count": 136
        }
      ]
    },
    {
      "cell_type": "code",
      "metadata": {
        "id": "nSJ115y8RvDI",
        "colab_type": "code",
        "outputId": "ab0c1006-05c5-479e-d400-a055d72e7c88",
        "colab": {
          "base_uri": "https://localhost:8080/",
          "height": 34
        }
      },
      "source": [
        "# Drop None values and unqualified data\n",
        "df.dropna(subset = [\"VALUE\"], inplace=True)\n",
        "df.drop(df[df.STATUS=='..'].index, inplace=True)\n",
        "df.drop(df[df.STATUS=='x'].index, inplace=True)\n",
        "df['STATUS'].value_counts()"
      ],
      "execution_count": 0,
      "outputs": [
        {
          "output_type": "execute_result",
          "data": {
            "text/plain": [
              "Series([], Name: STATUS, dtype: int64)"
            ]
          },
          "metadata": {
            "tags": []
          },
          "execution_count": 137
        }
      ]
    },
    {
      "cell_type": "code",
      "metadata": {
        "id": "t4kTd1-3RoVx",
        "colab_type": "code",
        "outputId": "c8e182f1-71dc-4e73-fced-1780e6480834",
        "colab": {
          "base_uri": "https://localhost:8080/",
          "height": 170
        }
      },
      "source": [
        "# Check\n",
        "df.isnull().sum().sort_values(ascending = False)"
      ],
      "execution_count": 0,
      "outputs": [
        {
          "output_type": "execute_result",
          "data": {
            "text/plain": [
              "STATUS                              1835674\n",
              "VALUE                                     0\n",
              "Graduate statistics                       0\n",
              "Characteristics after graduation          0\n",
              "Field of study                            0\n",
              "Age group                                 0\n",
              "Gender                                    0\n",
              "REF_DATE                                  0\n",
              "dtype: int64"
            ]
          },
          "metadata": {
            "tags": []
          },
          "execution_count": 138
        }
      ]
    },
    {
      "cell_type": "code",
      "metadata": {
        "id": "yyYwgEijbZq3",
        "colab_type": "code",
        "colab": {}
      },
      "source": [
        "# Attribute \"STATUS\" is irrelevant now\n",
        "df.drop(columns='STATUS',inplace= True)"
      ],
      "execution_count": 0,
      "outputs": []
    },
    {
      "cell_type": "code",
      "metadata": {
        "id": "FJ9ktfnu65GW",
        "colab_type": "code",
        "outputId": "fc9593e4-f94b-4d0c-d363-02a2a7879685",
        "colab": {
          "base_uri": "https://localhost:8080/",
          "height": 255
        }
      },
      "source": [
        "# Check\n",
        "df.info()"
      ],
      "execution_count": 0,
      "outputs": [
        {
          "output_type": "stream",
          "text": [
            "<class 'pandas.core.frame.DataFrame'>\n",
            "Int64Index: 1835674 entries, 0 to 2189305\n",
            "Data columns (total 7 columns):\n",
            " #   Column                            Dtype  \n",
            "---  ------                            -----  \n",
            " 0   REF_DATE                          int64  \n",
            " 1   Gender                            object \n",
            " 2   Age group                         object \n",
            " 3   Field of study                    object \n",
            " 4   Characteristics after graduation  object \n",
            " 5   Graduate statistics               object \n",
            " 6   VALUE                             float64\n",
            "dtypes: float64(1), int64(1), object(5)\n",
            "memory usage: 112.0+ MB\n"
          ],
          "name": "stdout"
        }
      ]
    },
    {
      "cell_type": "code",
      "metadata": {
        "id": "HQJqnz0jbdYX",
        "colab_type": "code",
        "outputId": "38993c0a-7158-42a4-be43-a5aaf3417e9b",
        "colab": {
          "base_uri": "https://localhost:8080/",
          "height": 255
        }
      },
      "source": [
        "#Change relevant data type to category\n",
        "df[['Gender','Age group','Field of study','Characteristics after graduation','Graduate statistics']] = df[['Gender','Age group','Field of study','Characteristics after graduation','Graduate statistics']].astype('category')\n",
        "df.info()"
      ],
      "execution_count": 0,
      "outputs": [
        {
          "output_type": "stream",
          "text": [
            "<class 'pandas.core.frame.DataFrame'>\n",
            "Int64Index: 1835674 entries, 0 to 2189305\n",
            "Data columns (total 7 columns):\n",
            " #   Column                            Dtype   \n",
            "---  ------                            -----   \n",
            " 0   REF_DATE                          int64   \n",
            " 1   Gender                            category\n",
            " 2   Age group                         category\n",
            " 3   Field of study                    category\n",
            " 4   Characteristics after graduation  category\n",
            " 5   Graduate statistics               category\n",
            " 6   VALUE                             float64 \n",
            "dtypes: category(5), float64(1), int64(1)\n",
            "memory usage: 50.8 MB\n"
          ],
          "name": "stdout"
        }
      ]
    },
    {
      "cell_type": "markdown",
      "metadata": {
        "id": "KBhZ0dX70SJX",
        "colab_type": "text"
      },
      "source": [
        "## Seperate Numbers of Graduates and Median of income from Column 'VALUE' "
      ]
    },
    {
      "cell_type": "code",
      "metadata": {
        "id": "zyEJh1PC3ea7",
        "colab_type": "code",
        "outputId": "d7f1aea9-b443-43f5-c372-bfe7f36a77ae",
        "colab": {
          "base_uri": "https://localhost:8080/",
          "height": 68
        }
      },
      "source": [
        "# Seperate Numbers of Graduates and Median of income from Column 'VALUE' into two DataFrame to see a correlation between them\n",
        "df['Graduate statistics'].value_counts()"
      ],
      "execution_count": 0,
      "outputs": [
        {
          "output_type": "execute_result",
          "data": {
            "text/plain": [
              "Number of graduates         1587038\n",
              "Median employment income     248636\n",
              "Name: Graduate statistics, dtype: int64"
            ]
          },
          "metadata": {
            "tags": []
          },
          "execution_count": 142
        }
      ]
    },
    {
      "cell_type": "code",
      "metadata": {
        "id": "iqbS_U1bTQwU",
        "colab_type": "code",
        "outputId": "6bc42c68-21d4-4a57-c049-3de552cd4f1a",
        "colab": {
          "base_uri": "https://localhost:8080/",
          "height": 34
        }
      },
      "source": [
        "# Dataframe contain \"Number of Graduates\" only\n",
        "df_Number = df[~df['Graduate statistics'].isin(['Median employment income'])]\n",
        "df_Number.shape"
      ],
      "execution_count": 0,
      "outputs": [
        {
          "output_type": "execute_result",
          "data": {
            "text/plain": [
              "(1587038, 7)"
            ]
          },
          "metadata": {
            "tags": []
          },
          "execution_count": 143
        }
      ]
    },
    {
      "cell_type": "code",
      "metadata": {
        "id": "XuqEEEdjGJs9",
        "colab_type": "code",
        "outputId": "54457121-32a2-4032-a842-327452a83be7",
        "colab": {
          "base_uri": "https://localhost:8080/",
          "height": 34
        }
      },
      "source": [
        "# Number of graduates in each field of study, 'Total' is irrelevant here.\n",
        "df_Number = df_Number[~df_Number['Field of study'].isin(['Total, field of study'])]\n",
        "df_Number.shape"
      ],
      "execution_count": 0,
      "outputs": [
        {
          "output_type": "execute_result",
          "data": {
            "text/plain": [
              "(1502529, 7)"
            ]
          },
          "metadata": {
            "tags": []
          },
          "execution_count": 255
        }
      ]
    },
    {
      "cell_type": "code",
      "metadata": {
        "id": "GVlnoJK8gdCk",
        "colab_type": "code",
        "outputId": "61c3b1bb-3e21-46d9-ca0a-5dcb65614b9b",
        "colab": {
          "base_uri": "https://localhost:8080/",
          "height": 235
        }
      },
      "source": [
        "# DataFrame one: Number of graduates in each field of study\n",
        "df_Number_of_Graduate = df_Number[['Field of study', 'VALUE']].groupby(['Field of study'], as_index=True).count().sort_values(by='Field of study', ascending=True)\n",
        "df_Number_of_Graduate = df_Number_of_Graduate.rename(columns={\"VALUE\": \"Number Of Graduates\",})\n",
        "df_Number_of_Graduate.head()"
      ],
      "execution_count": 0,
      "outputs": [
        {
          "output_type": "execute_result",
          "data": {
            "text/html": [
              "<div>\n",
              "<style scoped>\n",
              "    .dataframe tbody tr th:only-of-type {\n",
              "        vertical-align: middle;\n",
              "    }\n",
              "\n",
              "    .dataframe tbody tr th {\n",
              "        vertical-align: top;\n",
              "    }\n",
              "\n",
              "    .dataframe thead th {\n",
              "        text-align: right;\n",
              "    }\n",
              "</style>\n",
              "<table border=\"1\" class=\"dataframe\">\n",
              "  <thead>\n",
              "    <tr style=\"text-align: right;\">\n",
              "      <th></th>\n",
              "      <th>Number Of Graduates</th>\n",
              "    </tr>\n",
              "    <tr>\n",
              "      <th>Field of study</th>\n",
              "      <th></th>\n",
              "    </tr>\n",
              "  </thead>\n",
              "  <tbody>\n",
              "    <tr>\n",
              "      <th>Aboriginal and foreign languages, literatures and linguistics [16]</th>\n",
              "      <td>26568</td>\n",
              "    </tr>\n",
              "    <tr>\n",
              "      <th>Agriculture, agriculture operations and related sciences [1]</th>\n",
              "      <td>26301</td>\n",
              "    </tr>\n",
              "    <tr>\n",
              "      <th>Agriculture, natural resources and conservation [9]</th>\n",
              "      <td>36024</td>\n",
              "    </tr>\n",
              "    <tr>\n",
              "      <th>Architecture and related services [4]</th>\n",
              "      <td>19635</td>\n",
              "    </tr>\n",
              "    <tr>\n",
              "      <th>Architecture, engineering, and related technologies [8]</th>\n",
              "      <td>42077</td>\n",
              "    </tr>\n",
              "  </tbody>\n",
              "</table>\n",
              "</div>"
            ],
            "text/plain": [
              "                                                    Number Of Graduates\n",
              "Field of study                                                         \n",
              "Aboriginal and foreign languages, literatures a...                26568\n",
              "Agriculture, agriculture operations and related...                26301\n",
              "Agriculture, natural resources and conservation...                36024\n",
              "Architecture and related services [4]                             19635\n",
              "Architecture, engineering, and related technolo...                42077"
            ]
          },
          "metadata": {
            "tags": []
          },
          "execution_count": 241
        }
      ]
    },
    {
      "cell_type": "markdown",
      "metadata": {
        "id": "-2QN-6Cr1bMH",
        "colab_type": "text"
      },
      "source": [
        "\n",
        "\n",
        "---\n",
        "\n"
      ]
    },
    {
      "cell_type": "code",
      "metadata": {
        "id": "jjcyxHsvFNPg",
        "colab_type": "code",
        "outputId": "39e8f70b-fa10-407c-cf7a-97395c3f2cae",
        "colab": {
          "base_uri": "https://localhost:8080/",
          "height": 34
        }
      },
      "source": [
        "# Dataframe contain \"Income median\" only\n",
        "df_Income = df[~df['Graduate statistics'].isin(['Number of graduates'])]\n",
        "df_Income.shape"
      ],
      "execution_count": 0,
      "outputs": [
        {
          "output_type": "execute_result",
          "data": {
            "text/plain": [
              "(248636, 7)"
            ]
          },
          "metadata": {
            "tags": []
          },
          "execution_count": 256
        }
      ]
    },
    {
      "cell_type": "code",
      "metadata": {
        "id": "L6saNsr83VMi",
        "colab_type": "code",
        "outputId": "1cdb9d13-2bb6-4d71-b2c1-929619f2b46a",
        "colab": {
          "base_uri": "https://localhost:8080/",
          "height": 34
        }
      },
      "source": [
        "# Income median in each field of study, 'Total' is irrelevant here.\n",
        "df_Income = df_Income[~df_Income['Field of study'].isin(['Total, field of study'])]\n",
        "df_Income.shape"
      ],
      "execution_count": 0,
      "outputs": [
        {
          "output_type": "execute_result",
          "data": {
            "text/plain": [
              "(226490, 7)"
            ]
          },
          "metadata": {
            "tags": []
          },
          "execution_count": 257
        }
      ]
    },
    {
      "cell_type": "code",
      "metadata": {
        "id": "k46sYQ0oZWR3",
        "colab_type": "code",
        "outputId": "2a2ca63f-f754-475b-f2e0-29488561667d",
        "colab": {
          "base_uri": "https://localhost:8080/",
          "height": 235
        }
      },
      "source": [
        "# Calculate Income Median of each Field of study\t\n",
        "df_Field_of_Study_Income_Median = df_Income[['Field of study', 'VALUE']].groupby(['Field of study'], as_index=True).median().sort_values(by='Field of study', ascending=True)\n",
        "df_Field_of_Study_Income_Median = df_Field_of_Study_Income_Median.rename(columns={'VALUE':'Field Of Study Income Median'})\n",
        "df_Field_of_Study_Income_Median.head()"
      ],
      "execution_count": 0,
      "outputs": [
        {
          "output_type": "execute_result",
          "data": {
            "text/html": [
              "<div>\n",
              "<style scoped>\n",
              "    .dataframe tbody tr th:only-of-type {\n",
              "        vertical-align: middle;\n",
              "    }\n",
              "\n",
              "    .dataframe tbody tr th {\n",
              "        vertical-align: top;\n",
              "    }\n",
              "\n",
              "    .dataframe thead th {\n",
              "        text-align: right;\n",
              "    }\n",
              "</style>\n",
              "<table border=\"1\" class=\"dataframe\">\n",
              "  <thead>\n",
              "    <tr style=\"text-align: right;\">\n",
              "      <th></th>\n",
              "      <th>Field Of Study Income Median</th>\n",
              "    </tr>\n",
              "    <tr>\n",
              "      <th>Field of study</th>\n",
              "      <th></th>\n",
              "    </tr>\n",
              "  </thead>\n",
              "  <tbody>\n",
              "    <tr>\n",
              "      <th>Aboriginal and foreign languages, literatures and linguistics [16]</th>\n",
              "      <td>36000.0</td>\n",
              "    </tr>\n",
              "    <tr>\n",
              "      <th>Agriculture, agriculture operations and related sciences [1]</th>\n",
              "      <td>43200.0</td>\n",
              "    </tr>\n",
              "    <tr>\n",
              "      <th>Agriculture, natural resources and conservation [9]</th>\n",
              "      <td>46300.0</td>\n",
              "    </tr>\n",
              "    <tr>\n",
              "      <th>Architecture and related services [4]</th>\n",
              "      <td>46100.0</td>\n",
              "    </tr>\n",
              "    <tr>\n",
              "      <th>Architecture, engineering, and related technologies [8]</th>\n",
              "      <td>57400.0</td>\n",
              "    </tr>\n",
              "  </tbody>\n",
              "</table>\n",
              "</div>"
            ],
            "text/plain": [
              "                                                    Field Of Study Income Median\n",
              "Field of study                                                                  \n",
              "Aboriginal and foreign languages, literatures a...                       36000.0\n",
              "Agriculture, agriculture operations and related...                       43200.0\n",
              "Agriculture, natural resources and conservation...                       46300.0\n",
              "Architecture and related services [4]                                    46100.0\n",
              "Architecture, engineering, and related technolo...                       57400.0"
            ]
          },
          "metadata": {
            "tags": []
          },
          "execution_count": 258
        }
      ]
    },
    {
      "cell_type": "code",
      "metadata": {
        "id": "wx1Hf70bkDQK",
        "colab_type": "code",
        "outputId": "811494fe-bbef-47f7-d77d-39c90c6b4f3b",
        "colab": {
          "base_uri": "https://localhost:8080/",
          "height": 34
        }
      },
      "source": [
        "# Create New dataset contain two related variables\n",
        "df_correlation = pd.concat([df_Number_of_Graduate, df_Field_of_Study_Income_Median], axis=1)\n",
        "df_correlation.shape"
      ],
      "execution_count": 0,
      "outputs": [
        {
          "output_type": "execute_result",
          "data": {
            "text/plain": [
              "(60, 2)"
            ]
          },
          "metadata": {
            "tags": []
          },
          "execution_count": 264
        }
      ]
    },
    {
      "cell_type": "code",
      "metadata": {
        "id": "ftTY0eUJ2qJi",
        "colab_type": "code",
        "outputId": "48547fd7-72a2-49c4-9ceb-396b4b6a9b2d",
        "colab": {
          "base_uri": "https://localhost:8080/",
          "height": 297
        }
      },
      "source": [
        "# Drop None value before calculate correlations\n",
        "df_correlation.dropna(subset = [\"Number Of Graduates\",\"Field Of Study Income Median\"], inplace=True)\n",
        "df_correlation.describe()"
      ],
      "execution_count": 0,
      "outputs": [
        {
          "output_type": "execute_result",
          "data": {
            "text/html": [
              "<div>\n",
              "<style scoped>\n",
              "    .dataframe tbody tr th:only-of-type {\n",
              "        vertical-align: middle;\n",
              "    }\n",
              "\n",
              "    .dataframe tbody tr th {\n",
              "        vertical-align: top;\n",
              "    }\n",
              "\n",
              "    .dataframe thead th {\n",
              "        text-align: right;\n",
              "    }\n",
              "</style>\n",
              "<table border=\"1\" class=\"dataframe\">\n",
              "  <thead>\n",
              "    <tr style=\"text-align: right;\">\n",
              "      <th></th>\n",
              "      <th>Number Of Graduates</th>\n",
              "      <th>Field Of Study Income Median</th>\n",
              "    </tr>\n",
              "  </thead>\n",
              "  <tbody>\n",
              "    <tr>\n",
              "      <th>count</th>\n",
              "      <td>57.000000</td>\n",
              "      <td>57.000000</td>\n",
              "    </tr>\n",
              "    <tr>\n",
              "      <th>mean</th>\n",
              "      <td>26329.561404</td>\n",
              "      <td>47054.385965</td>\n",
              "    </tr>\n",
              "    <tr>\n",
              "      <th>std</th>\n",
              "      <td>13545.412107</td>\n",
              "      <td>16453.541957</td>\n",
              "    </tr>\n",
              "    <tr>\n",
              "      <th>min</th>\n",
              "      <td>3352.000000</td>\n",
              "      <td>25600.000000</td>\n",
              "    </tr>\n",
              "    <tr>\n",
              "      <th>25%</th>\n",
              "      <td>16418.000000</td>\n",
              "      <td>39300.000000</td>\n",
              "    </tr>\n",
              "    <tr>\n",
              "      <th>50%</th>\n",
              "      <td>24637.000000</td>\n",
              "      <td>44800.000000</td>\n",
              "    </tr>\n",
              "    <tr>\n",
              "      <th>75%</th>\n",
              "      <td>34914.000000</td>\n",
              "      <td>51600.000000</td>\n",
              "    </tr>\n",
              "    <tr>\n",
              "      <th>max</th>\n",
              "      <td>57752.000000</td>\n",
              "      <td>144050.000000</td>\n",
              "    </tr>\n",
              "  </tbody>\n",
              "</table>\n",
              "</div>"
            ],
            "text/plain": [
              "       Number Of Graduates  Field Of Study Income Median\n",
              "count            57.000000                     57.000000\n",
              "mean          26329.561404                  47054.385965\n",
              "std           13545.412107                  16453.541957\n",
              "min            3352.000000                  25600.000000\n",
              "25%           16418.000000                  39300.000000\n",
              "50%           24637.000000                  44800.000000\n",
              "75%           34914.000000                  51600.000000\n",
              "max           57752.000000                 144050.000000"
            ]
          },
          "metadata": {
            "tags": []
          },
          "execution_count": 276
        }
      ]
    },
    {
      "cell_type": "code",
      "metadata": {
        "id": "Vo5i4kdnvOGc",
        "colab_type": "code",
        "outputId": "fee159b0-95c0-4cb5-c227-3961f193742d",
        "colab": {
          "base_uri": "https://localhost:8080/",
          "height": 111
        }
      },
      "source": [
        "# Calculate Correlation\n",
        "df_correlation.corr()"
      ],
      "execution_count": 0,
      "outputs": [
        {
          "output_type": "execute_result",
          "data": {
            "text/html": [
              "<div>\n",
              "<style scoped>\n",
              "    .dataframe tbody tr th:only-of-type {\n",
              "        vertical-align: middle;\n",
              "    }\n",
              "\n",
              "    .dataframe tbody tr th {\n",
              "        vertical-align: top;\n",
              "    }\n",
              "\n",
              "    .dataframe thead th {\n",
              "        text-align: right;\n",
              "    }\n",
              "</style>\n",
              "<table border=\"1\" class=\"dataframe\">\n",
              "  <thead>\n",
              "    <tr style=\"text-align: right;\">\n",
              "      <th></th>\n",
              "      <th>Number Of Graduates</th>\n",
              "      <th>Field Of Study Income Median</th>\n",
              "    </tr>\n",
              "  </thead>\n",
              "  <tbody>\n",
              "    <tr>\n",
              "      <th>Number Of Graduates</th>\n",
              "      <td>1.000000</td>\n",
              "      <td>-0.020323</td>\n",
              "    </tr>\n",
              "    <tr>\n",
              "      <th>Field Of Study Income Median</th>\n",
              "      <td>-0.020323</td>\n",
              "      <td>1.000000</td>\n",
              "    </tr>\n",
              "  </tbody>\n",
              "</table>\n",
              "</div>"
            ],
            "text/plain": [
              "                              Number Of Graduates  Field Of Study Income Median\n",
              "Number Of Graduates                      1.000000                     -0.020323\n",
              "Field Of Study Income Median            -0.020323                      1.000000"
            ]
          },
          "metadata": {
            "tags": []
          },
          "execution_count": 267
        }
      ]
    },
    {
      "cell_type": "code",
      "metadata": {
        "id": "PJ0fo24xmTTa",
        "colab_type": "code",
        "outputId": "fbb1e980-5844-4eb9-bdec-ea72d30f61e0",
        "colab": {
          "base_uri": "https://localhost:8080/",
          "height": 619
        }
      },
      "source": [
        "# Correlation showing in Plot\n",
        "Rel_Plot = sns.lmplot(x = \"Number Of Graduates\", y = \"Field Of Study Income Median\",size=(8) , data = df_correlation)\n",
        "Rel_Plot = (Rel_Plot.set(xlim=(0,60000), ylim=(0,150000)))"
      ],
      "execution_count": 0,
      "outputs": [
        {
          "output_type": "stream",
          "text": [
            "/usr/local/lib/python3.6/dist-packages/seaborn/regression.py:574: UserWarning: The `size` parameter has been renamed to `height`; please update your code.\n",
            "  warnings.warn(msg, UserWarning)\n"
          ],
          "name": "stderr"
        },
        {
          "output_type": "display_data",
          "data": {
            "image/png": "[encoded data removed]",
            "text/plain": [
              "<Figure size 576x576 with 1 Axes>"
            ]
          },
          "metadata": {
            "tags": [],
            "needs_background": "light"
          }
        }
      ]
    },
    {
      "cell_type": "code",
      "metadata": {
        "id": "I9dr1G4-rGvE",
        "colab_type": "code",
        "outputId": "635b9342-7289-42f0-aadd-5bbcebd8bca0",
        "colab": {
          "base_uri": "https://localhost:8080/",
          "height": 602
        }
      },
      "source": [
        "# Scatter Mmatrix Plot\n",
        "from pandas.plotting import scatter_matrix\n",
        "scatter_matrix(df_correlation, figsize=(14,8), alpha=1)"
      ],
      "execution_count": 0,
      "outputs": [
        {
          "output_type": "execute_result",
          "data": {
            "text/plain": [
              "array([[<matplotlib.axes._subplots.AxesSubplot object at 0x7f8e2af9f4a8>,\n",
              "        <matplotlib.axes._subplots.AxesSubplot object at 0x7f8e265babe0>],\n",
              "       [<matplotlib.axes._subplots.AxesSubplot object at 0x7f8e357ca710>,\n",
              "        <matplotlib.axes._subplots.AxesSubplot object at 0x7f8e2ce5dcc0>]],\n",
              "      dtype=object)"
            ]
          },
          "metadata": {
            "tags": []
          },
          "execution_count": 282
        },
        {
          "output_type": "display_data",
          "data": {
            "image/png": "[encoded data removed]",
            "text/plain": [
              "<Figure size 1008x576 with 4 Axes>"
            ]
          },
          "metadata": {
            "tags": [],
            "needs_background": "light"
          }
        }
      ]
    },
    {
      "cell_type": "markdown",
      "metadata": {
        "id": "I55ZftRYvt8E",
        "colab_type": "text"
      },
      "source": [
        "## Conclusion: \n",
        "There are no relationship between Number of Graduates and Income median of each field of study"
      ]
    }
  ]
}