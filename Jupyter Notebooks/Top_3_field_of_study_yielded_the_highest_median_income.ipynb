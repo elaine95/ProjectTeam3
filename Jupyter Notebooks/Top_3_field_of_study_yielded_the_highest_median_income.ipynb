{
  "nbformat": 4,
  "nbformat_minor": 0,
  "metadata": {
    "colab": {
      "name": "Top 3 field of study yielded the highest median income.ipynb",
      "provenance": [],
      "collapsed_sections": []
    },
    "kernelspec": {
      "name": "python3",
      "display_name": "Python 3"
    }
  },
  "cells": [
    {
      "cell_type": "markdown",
      "metadata": {
        "id": "pQitfZB5OHcI",
        "colab_type": "text"
      },
      "source": [
        "# What are the top 3 fields of study that yielded the highest median employment income 2 years after graduation in each year the study was conducted?\n"
      ]
    },
    {
      "cell_type": "markdown",
      "metadata": {
        "id": "eSCxvaRU49Sx",
        "colab_type": "text"
      },
      "source": [
        "**Introduction:** Median employment income of graduates 2 years after graduation in Canada varies across the different fields of study. The purpose of this analysis was to identify the top 3 fields of study that yielded the highest median employement income 2 years after graduation."
      ]
    },
    {
      "cell_type": "markdown",
      "metadata": {
        "id": "JzsAt8uZz2LM",
        "colab_type": "text"
      },
      "source": [
        "## Import Data"
      ]
    },
    {
      "cell_type": "code",
      "metadata": {
        "id": "qCQLxsXAcI0_",
        "colab_type": "code",
        "colab": {}
      },
      "source": [
        "import pandas as pd"
      ],
      "execution_count": 0,
      "outputs": []
    },
    {
      "cell_type": "code",
      "metadata": {
        "id": "A3LA0G9DOGs3",
        "colab_type": "code",
        "colab": {}
      },
      "source": [
        "data = pd.read_csv(\"graduate_income.csv\")"
      ],
      "execution_count": 0,
      "outputs": []
    },
    {
      "cell_type": "code",
      "metadata": {
        "id": "xxzrmEnx4NM-",
        "colab_type": "code",
        "outputId": "59f07fda-d90b-47db-8bb3-919040a45003",
        "colab": {
          "base_uri": "https://localhost:8080/",
          "height": 510
        }
      },
      "source": [
        "data.head()"
      ],
      "execution_count": 0,
      "outputs": [
        {
          "output_type": "execute_result",
          "data": {
            "text/html": [
              "<div>\n",
              "<style scoped>\n",
              "    .dataframe tbody tr th:only-of-type {\n",
              "        vertical-align: middle;\n",
              "    }\n",
              "\n",
              "    .dataframe tbody tr th {\n",
              "        vertical-align: top;\n",
              "    }\n",
              "\n",
              "    .dataframe thead th {\n",
              "        text-align: right;\n",
              "    }\n",
              "</style>\n",
              "<table border=\"1\" class=\"dataframe\">\n",
              "  <thead>\n",
              "    <tr style=\"text-align: right;\">\n",
              "      <th></th>\n",
              "      <th>REF_DATE</th>\n",
              "      <th>GEO</th>\n",
              "      <th>DGUID</th>\n",
              "      <th>Educational qualification</th>\n",
              "      <th>Field of study</th>\n",
              "      <th>Gender</th>\n",
              "      <th>Age group</th>\n",
              "      <th>Status of student in Canada</th>\n",
              "      <th>Characteristics after graduation</th>\n",
              "      <th>Graduate statistics</th>\n",
              "      <th>UOM</th>\n",
              "      <th>UOM_ID</th>\n",
              "      <th>SCALAR_FACTOR</th>\n",
              "      <th>SCALAR_ID</th>\n",
              "      <th>VECTOR</th>\n",
              "      <th>COORDINATE</th>\n",
              "      <th>VALUE</th>\n",
              "      <th>STATUS</th>\n",
              "      <th>SYMBOL</th>\n",
              "      <th>TERMINATED</th>\n",
              "      <th>DECIMALS</th>\n",
              "    </tr>\n",
              "  </thead>\n",
              "  <tbody>\n",
              "    <tr>\n",
              "      <th>0</th>\n",
              "      <td>2010</td>\n",
              "      <td>Canada</td>\n",
              "      <td>2016A11124</td>\n",
              "      <td>Total, educational qualification</td>\n",
              "      <td>Total, field of study</td>\n",
              "      <td>Total, gender</td>\n",
              "      <td>15 to 64 years</td>\n",
              "      <td>Canadian and international students</td>\n",
              "      <td>All graduates</td>\n",
              "      <td>Number of graduates</td>\n",
              "      <td>Number</td>\n",
              "      <td>223</td>\n",
              "      <td>units</td>\n",
              "      <td>0</td>\n",
              "      <td>v1007918655</td>\n",
              "      <td>1.1.1.1.1.1.1.1</td>\n",
              "      <td>321930.0</td>\n",
              "      <td>NaN</td>\n",
              "      <td>NaN</td>\n",
              "      <td>NaN</td>\n",
              "      <td>0</td>\n",
              "    </tr>\n",
              "    <tr>\n",
              "      <th>1</th>\n",
              "      <td>2010</td>\n",
              "      <td>Canada</td>\n",
              "      <td>2016A11124</td>\n",
              "      <td>Total, educational qualification</td>\n",
              "      <td>Total, field of study</td>\n",
              "      <td>Total, gender</td>\n",
              "      <td>15 to 64 years</td>\n",
              "      <td>Canadian and international students</td>\n",
              "      <td>Graduates with no income information</td>\n",
              "      <td>Number of graduates</td>\n",
              "      <td>Number</td>\n",
              "      <td>223</td>\n",
              "      <td>units</td>\n",
              "      <td>0</td>\n",
              "      <td>v1007918656</td>\n",
              "      <td>1.1.1.1.1.1.2.1</td>\n",
              "      <td>57460.0</td>\n",
              "      <td>NaN</td>\n",
              "      <td>NaN</td>\n",
              "      <td>NaN</td>\n",
              "      <td>0</td>\n",
              "    </tr>\n",
              "    <tr>\n",
              "      <th>2</th>\n",
              "      <td>2010</td>\n",
              "      <td>Canada</td>\n",
              "      <td>2016A11124</td>\n",
              "      <td>Total, educational qualification</td>\n",
              "      <td>Total, field of study</td>\n",
              "      <td>Total, gender</td>\n",
              "      <td>15 to 64 years</td>\n",
              "      <td>Canadian and international students</td>\n",
              "      <td>Full-time students</td>\n",
              "      <td>Number of graduates</td>\n",
              "      <td>Number</td>\n",
              "      <td>223</td>\n",
              "      <td>units</td>\n",
              "      <td>0</td>\n",
              "      <td>v1007918657</td>\n",
              "      <td>1.1.1.1.1.1.3.1</td>\n",
              "      <td>50920.0</td>\n",
              "      <td>NaN</td>\n",
              "      <td>NaN</td>\n",
              "      <td>NaN</td>\n",
              "      <td>0</td>\n",
              "    </tr>\n",
              "    <tr>\n",
              "      <th>3</th>\n",
              "      <td>2010</td>\n",
              "      <td>Canada</td>\n",
              "      <td>2016A11124</td>\n",
              "      <td>Total, educational qualification</td>\n",
              "      <td>Total, field of study</td>\n",
              "      <td>Total, gender</td>\n",
              "      <td>15 to 64 years</td>\n",
              "      <td>Canadian and international students</td>\n",
              "      <td>Graduates reporting employment income</td>\n",
              "      <td>Number of graduates</td>\n",
              "      <td>Number</td>\n",
              "      <td>223</td>\n",
              "      <td>units</td>\n",
              "      <td>0</td>\n",
              "      <td>v1007918658</td>\n",
              "      <td>1.1.1.1.1.1.4.1</td>\n",
              "      <td>213545.0</td>\n",
              "      <td>NaN</td>\n",
              "      <td>NaN</td>\n",
              "      <td>NaN</td>\n",
              "      <td>0</td>\n",
              "    </tr>\n",
              "    <tr>\n",
              "      <th>4</th>\n",
              "      <td>2010</td>\n",
              "      <td>Canada</td>\n",
              "      <td>2016A11124</td>\n",
              "      <td>Total, educational qualification</td>\n",
              "      <td>Total, field of study</td>\n",
              "      <td>Total, gender</td>\n",
              "      <td>15 to 64 years</td>\n",
              "      <td>Canadian and international students</td>\n",
              "      <td>Graduates reporting wages, salaries and commis...</td>\n",
              "      <td>Number of graduates</td>\n",
              "      <td>Number</td>\n",
              "      <td>223</td>\n",
              "      <td>units</td>\n",
              "      <td>0</td>\n",
              "      <td>v1007918659</td>\n",
              "      <td>1.1.1.1.1.1.5.1</td>\n",
              "      <td>190120.0</td>\n",
              "      <td>NaN</td>\n",
              "      <td>NaN</td>\n",
              "      <td>NaN</td>\n",
              "      <td>0</td>\n",
              "    </tr>\n",
              "  </tbody>\n",
              "</table>\n",
              "</div>"
            ],
            "text/plain": [
              "   REF_DATE     GEO       DGUID  ... SYMBOL TERMINATED DECIMALS\n",
              "0      2010  Canada  2016A11124  ...    NaN        NaN        0\n",
              "1      2010  Canada  2016A11124  ...    NaN        NaN        0\n",
              "2      2010  Canada  2016A11124  ...    NaN        NaN        0\n",
              "3      2010  Canada  2016A11124  ...    NaN        NaN        0\n",
              "4      2010  Canada  2016A11124  ...    NaN        NaN        0\n",
              "\n",
              "[5 rows x 21 columns]"
            ]
          },
          "metadata": {
            "tags": []
          },
          "execution_count": 14
        }
      ]
    },
    {
      "cell_type": "markdown",
      "metadata": {
        "id": "Y9K-aevt0lWL",
        "colab_type": "text"
      },
      "source": [
        "## Filter Data"
      ]
    },
    {
      "cell_type": "code",
      "metadata": {
        "id": "65JMHz7H1FN9",
        "colab_type": "code",
        "outputId": "84f854be-f69a-4de7-8e91-3338afd3b1d4",
        "colab": {
          "base_uri": "https://localhost:8080/",
          "height": 35
        }
      },
      "source": [
        "#How many years of data are there? \n",
        "print(data['REF_DATE'].unique())"
      ],
      "execution_count": 0,
      "outputs": [
        {
          "output_type": "stream",
          "text": [
            "[2010 2011 2012 2013 2014 2015]\n"
          ],
          "name": "stdout"
        }
      ]
    },
    {
      "cell_type": "code",
      "metadata": {
        "id": "-WFOhZQM4hd_",
        "colab_type": "code",
        "outputId": "b7220b22-9e35-4eec-d95f-6b0d7011097c",
        "colab": {
          "base_uri": "https://localhost:8080/",
          "height": 126
        }
      },
      "source": [
        "#Filter for the relevant data and rename columns of interest\n",
        "data_filtered =  data[(data['GEO']=='Canada') &\n",
        "                      (data['Field of study'] != \"Total, field of study\") &\n",
        "                      (data['Gender']== \"Total, gender\")&\n",
        "                      (data['Age group']==\"15 to 64 years\")&\n",
        "                      (data['Status of student in Canada']==\"Canadian and international students\") &\n",
        "                      (data['Characteristics after graduation']==\"Graduates reporting employment income\")&\n",
        "                      (data['UOM'] ==\"2017 constant dollars\")]\n",
        "\n",
        "data_filtered.rename(columns = {'REF_DATE':'Year', 'VALUE':'Median Employment Income'}, inplace = True) "
      ],
      "execution_count": 0,
      "outputs": [
        {
          "output_type": "stream",
          "text": [
            "/usr/local/lib/python3.6/dist-packages/pandas/core/frame.py:4133: SettingWithCopyWarning: \n",
            "A value is trying to be set on a copy of a slice from a DataFrame\n",
            "\n",
            "See the caveats in the documentation: https://pandas.pydata.org/pandas-docs/stable/user_guide/indexing.html#returning-a-view-versus-a-copy\n",
            "  errors=errors,\n"
          ],
          "name": "stderr"
        }
      ]
    },
    {
      "cell_type": "code",
      "metadata": {
        "id": "Zw6GUhGe1zgu",
        "colab_type": "code",
        "outputId": "2f47921f-c403-4bae-af79-be4d6b180dcf",
        "colab": {
          "base_uri": "https://localhost:8080/",
          "height": 510
        }
      },
      "source": [
        "data_filtered.head()"
      ],
      "execution_count": 0,
      "outputs": [
        {
          "output_type": "execute_result",
          "data": {
            "text/html": [
              "<div>\n",
              "<style scoped>\n",
              "    .dataframe tbody tr th:only-of-type {\n",
              "        vertical-align: middle;\n",
              "    }\n",
              "\n",
              "    .dataframe tbody tr th {\n",
              "        vertical-align: top;\n",
              "    }\n",
              "\n",
              "    .dataframe thead th {\n",
              "        text-align: right;\n",
              "    }\n",
              "</style>\n",
              "<table border=\"1\" class=\"dataframe\">\n",
              "  <thead>\n",
              "    <tr style=\"text-align: right;\">\n",
              "      <th></th>\n",
              "      <th>Year</th>\n",
              "      <th>GEO</th>\n",
              "      <th>DGUID</th>\n",
              "      <th>Educational qualification</th>\n",
              "      <th>Field of study</th>\n",
              "      <th>Gender</th>\n",
              "      <th>Age group</th>\n",
              "      <th>Status of student in Canada</th>\n",
              "      <th>Characteristics after graduation</th>\n",
              "      <th>Graduate statistics</th>\n",
              "      <th>UOM</th>\n",
              "      <th>UOM_ID</th>\n",
              "      <th>SCALAR_FACTOR</th>\n",
              "      <th>SCALAR_ID</th>\n",
              "      <th>VECTOR</th>\n",
              "      <th>COORDINATE</th>\n",
              "      <th>Median Employment Income</th>\n",
              "      <th>STATUS</th>\n",
              "      <th>SYMBOL</th>\n",
              "      <th>TERMINATED</th>\n",
              "      <th>DECIMALS</th>\n",
              "    </tr>\n",
              "  </thead>\n",
              "  <tbody>\n",
              "    <tr>\n",
              "      <th>5389</th>\n",
              "      <td>2010</td>\n",
              "      <td>Canada</td>\n",
              "      <td>2016A11124</td>\n",
              "      <td>Career, technical or professional training sho...</td>\n",
              "      <td>Education [1]</td>\n",
              "      <td>Total, gender</td>\n",
              "      <td>15 to 64 years</td>\n",
              "      <td>Canadian and international students</td>\n",
              "      <td>Graduates reporting employment income</td>\n",
              "      <td>Median employment income</td>\n",
              "      <td>2017 constant dollars</td>\n",
              "      <td>387</td>\n",
              "      <td>units</td>\n",
              "      <td>0</td>\n",
              "      <td>v1007944759</td>\n",
              "      <td>1.4.2.1.1.1.4.2</td>\n",
              "      <td>30400.0</td>\n",
              "      <td>NaN</td>\n",
              "      <td>NaN</td>\n",
              "      <td>NaN</td>\n",
              "      <td>0</td>\n",
              "    </tr>\n",
              "    <tr>\n",
              "      <th>5505</th>\n",
              "      <td>2010</td>\n",
              "      <td>Canada</td>\n",
              "      <td>2016A11124</td>\n",
              "      <td>Career, technical or professional training sho...</td>\n",
              "      <td>Education [13]</td>\n",
              "      <td>Total, gender</td>\n",
              "      <td>15 to 64 years</td>\n",
              "      <td>Canadian and international students</td>\n",
              "      <td>Graduates reporting employment income</td>\n",
              "      <td>Median employment income</td>\n",
              "      <td>2017 constant dollars</td>\n",
              "      <td>387</td>\n",
              "      <td>units</td>\n",
              "      <td>0</td>\n",
              "      <td>v1007939971</td>\n",
              "      <td>1.4.3.1.1.1.4.2</td>\n",
              "      <td>30400.0</td>\n",
              "      <td>NaN</td>\n",
              "      <td>NaN</td>\n",
              "      <td>NaN</td>\n",
              "      <td>0</td>\n",
              "    </tr>\n",
              "    <tr>\n",
              "      <th>5621</th>\n",
              "      <td>2010</td>\n",
              "      <td>Canada</td>\n",
              "      <td>2016A11124</td>\n",
              "      <td>Career, technical or professional training sho...</td>\n",
              "      <td>Visual and performing arts, and communications...</td>\n",
              "      <td>Total, gender</td>\n",
              "      <td>15 to 64 years</td>\n",
              "      <td>Canadian and international students</td>\n",
              "      <td>Graduates reporting employment income</td>\n",
              "      <td>Median employment income</td>\n",
              "      <td>2017 constant dollars</td>\n",
              "      <td>387</td>\n",
              "      <td>units</td>\n",
              "      <td>0</td>\n",
              "      <td>v1007944885</td>\n",
              "      <td>1.4.4.1.1.1.4.2</td>\n",
              "      <td>27000.0</td>\n",
              "      <td>NaN</td>\n",
              "      <td>NaN</td>\n",
              "      <td>NaN</td>\n",
              "      <td>0</td>\n",
              "    </tr>\n",
              "    <tr>\n",
              "      <th>5747</th>\n",
              "      <td>2010</td>\n",
              "      <td>Canada</td>\n",
              "      <td>2016A11124</td>\n",
              "      <td>Career, technical or professional training sho...</td>\n",
              "      <td>Communications technologies/technicians and su...</td>\n",
              "      <td>Total, gender</td>\n",
              "      <td>15 to 64 years</td>\n",
              "      <td>Canadian and international students</td>\n",
              "      <td>Graduates reporting employment income</td>\n",
              "      <td>Median employment income</td>\n",
              "      <td>2017 constant dollars</td>\n",
              "      <td>387</td>\n",
              "      <td>units</td>\n",
              "      <td>0</td>\n",
              "      <td>v1007939593</td>\n",
              "      <td>1.4.5.1.1.1.4.2</td>\n",
              "      <td>25700.0</td>\n",
              "      <td>NaN</td>\n",
              "      <td>NaN</td>\n",
              "      <td>NaN</td>\n",
              "      <td>0</td>\n",
              "    </tr>\n",
              "    <tr>\n",
              "      <th>5871</th>\n",
              "      <td>2010</td>\n",
              "      <td>Canada</td>\n",
              "      <td>2016A11124</td>\n",
              "      <td>Career, technical or professional training sho...</td>\n",
              "      <td>Visual and performing arts [50]</td>\n",
              "      <td>Total, gender</td>\n",
              "      <td>15 to 64 years</td>\n",
              "      <td>Canadian and international students</td>\n",
              "      <td>Graduates reporting employment income</td>\n",
              "      <td>Median employment income</td>\n",
              "      <td>2017 constant dollars</td>\n",
              "      <td>387</td>\n",
              "      <td>units</td>\n",
              "      <td>0</td>\n",
              "      <td>v1007944003</td>\n",
              "      <td>1.4.6.1.1.1.4.2</td>\n",
              "      <td>28400.0</td>\n",
              "      <td>NaN</td>\n",
              "      <td>NaN</td>\n",
              "      <td>NaN</td>\n",
              "      <td>0</td>\n",
              "    </tr>\n",
              "  </tbody>\n",
              "</table>\n",
              "</div>"
            ],
            "text/plain": [
              "      Year     GEO       DGUID  ... SYMBOL TERMINATED DECIMALS\n",
              "5389  2010  Canada  2016A11124  ...    NaN        NaN        0\n",
              "5505  2010  Canada  2016A11124  ...    NaN        NaN        0\n",
              "5621  2010  Canada  2016A11124  ...    NaN        NaN        0\n",
              "5747  2010  Canada  2016A11124  ...    NaN        NaN        0\n",
              "5871  2010  Canada  2016A11124  ...    NaN        NaN        0\n",
              "\n",
              "[5 rows x 21 columns]"
            ]
          },
          "metadata": {
            "tags": []
          },
          "execution_count": 63
        }
      ]
    },
    {
      "cell_type": "code",
      "metadata": {
        "id": "ilTx2dkh1wP5",
        "colab_type": "code",
        "outputId": "5c678595-6a3c-4348-ffad-4d57cf34e9cd",
        "colab": {
          "base_uri": "https://localhost:8080/",
          "height": 250
        }
      },
      "source": [
        "#Divide the dataset into the different years in which data was collected (2010, 2011, 2012, 2013, 2014, 2015)\n",
        "\n",
        "data2010 = data_filtered[(data['REF_DATE']==2010)]\n",
        "               \n",
        "data2011 = data_filtered[(data['REF_DATE']==2011)]\n",
        "\n",
        "data2012 = data_filtered[(data['REF_DATE']==2012)]\n",
        "\n",
        "data2013 = data_filtered[(data['REF_DATE']==2013)]\n",
        "\n",
        "data2014 = data_filtered[(data['REF_DATE']==2014)]\n",
        "\n",
        "data2015 = data_filtered[(data['REF_DATE']==2015)]"
      ],
      "execution_count": 0,
      "outputs": [
        {
          "output_type": "stream",
          "text": [
            "/usr/local/lib/python3.6/dist-packages/ipykernel_launcher.py:2: UserWarning: Boolean Series key will be reindexed to match DataFrame index.\n",
            "  \n",
            "/usr/local/lib/python3.6/dist-packages/ipykernel_launcher.py:4: UserWarning: Boolean Series key will be reindexed to match DataFrame index.\n",
            "  after removing the cwd from sys.path.\n",
            "/usr/local/lib/python3.6/dist-packages/ipykernel_launcher.py:6: UserWarning: Boolean Series key will be reindexed to match DataFrame index.\n",
            "  \n",
            "/usr/local/lib/python3.6/dist-packages/ipykernel_launcher.py:8: UserWarning: Boolean Series key will be reindexed to match DataFrame index.\n",
            "  \n",
            "/usr/local/lib/python3.6/dist-packages/ipykernel_launcher.py:10: UserWarning: Boolean Series key will be reindexed to match DataFrame index.\n",
            "  # Remove the CWD from sys.path while we load stuff.\n",
            "/usr/local/lib/python3.6/dist-packages/ipykernel_launcher.py:12: UserWarning: Boolean Series key will be reindexed to match DataFrame index.\n",
            "  if sys.path[0] == '':\n"
          ],
          "name": "stderr"
        }
      ]
    },
    {
      "cell_type": "markdown",
      "metadata": {
        "id": "aN8R5X-g3VW4",
        "colab_type": "text"
      },
      "source": [
        "### 2010 Top 3 Fields of Study That Yielded Highest Income"
      ]
    },
    {
      "cell_type": "code",
      "metadata": {
        "id": "9oTZnsFS3S8V",
        "colab_type": "code",
        "outputId": "f735f4b1-d5e2-4d84-885a-5c6e4febf685",
        "colab": {
          "base_uri": "https://localhost:8080/",
          "height": 139
        }
      },
      "source": [
        "#To find the top 3 fields that yielded the highest median employment income, order median employment income in descending order\n",
        "#Then select only the first 3 rows, which represent the 3 highest median employment income in that year\n",
        "#Only columns of interest were extracted\n",
        "\n",
        "data2010_descending = data2010[['Year','Field of study','Median Employment Income']].sort_values('Median Employment Income', ascending=False)   \n",
        "data2010_descending.head(n=3)"
      ],
      "execution_count": 0,
      "outputs": [
        {
          "output_type": "execute_result",
          "data": {
            "text/html": [
              "<div>\n",
              "<style scoped>\n",
              "    .dataframe tbody tr th:only-of-type {\n",
              "        vertical-align: middle;\n",
              "    }\n",
              "\n",
              "    .dataframe tbody tr th {\n",
              "        vertical-align: top;\n",
              "    }\n",
              "\n",
              "    .dataframe thead th {\n",
              "        text-align: right;\n",
              "    }\n",
              "</style>\n",
              "<table border=\"1\" class=\"dataframe\">\n",
              "  <thead>\n",
              "    <tr style=\"text-align: right;\">\n",
              "      <th></th>\n",
              "      <th>Year</th>\n",
              "      <th>Field of study</th>\n",
              "      <th>Median Employment Income</th>\n",
              "    </tr>\n",
              "  </thead>\n",
              "  <tbody>\n",
              "    <tr>\n",
              "      <th>48855</th>\n",
              "      <td>2010</td>\n",
              "      <td>Health and related fields [10]</td>\n",
              "      <td>198200.0</td>\n",
              "    </tr>\n",
              "    <tr>\n",
              "      <th>48975</th>\n",
              "      <td>2010</td>\n",
              "      <td>Dental, medical and veterinary residency progr...</td>\n",
              "      <td>198200.0</td>\n",
              "    </tr>\n",
              "    <tr>\n",
              "      <th>66432</th>\n",
              "      <td>2010</td>\n",
              "      <td>Business, management, marketing and related su...</td>\n",
              "      <td>114000.0</td>\n",
              "    </tr>\n",
              "  </tbody>\n",
              "</table>\n",
              "</div>"
            ],
            "text/plain": [
              "       Year  ... Median Employment Income\n",
              "48855  2010  ...                 198200.0\n",
              "48975  2010  ...                 198200.0\n",
              "66432  2010  ...                 114000.0\n",
              "\n",
              "[3 rows x 3 columns]"
            ]
          },
          "metadata": {
            "tags": []
          },
          "execution_count": 65
        }
      ]
    },
    {
      "cell_type": "markdown",
      "metadata": {
        "id": "R2uCfuEh3yp7",
        "colab_type": "text"
      },
      "source": [
        "### 2011 Top 3 Fields of Study That Yielded Highest Income"
      ]
    },
    {
      "cell_type": "code",
      "metadata": {
        "id": "kWyH3ClKBnHb",
        "colab_type": "code",
        "outputId": "e356e4ce-bf21-4353-a699-16de0f7292eb",
        "colab": {
          "base_uri": "https://localhost:8080/",
          "height": 139
        }
      },
      "source": [
        "data2011_descending = data2011[['Year','Field of study','Median Employment Income']].sort_values('Median Employment Income', ascending=False)   \n",
        "data2011_descending.head(n=3)"
      ],
      "execution_count": 0,
      "outputs": [
        {
          "output_type": "execute_result",
          "data": {
            "text/html": [
              "<div>\n",
              "<style scoped>\n",
              "    .dataframe tbody tr th:only-of-type {\n",
              "        vertical-align: middle;\n",
              "    }\n",
              "\n",
              "    .dataframe tbody tr th {\n",
              "        vertical-align: top;\n",
              "    }\n",
              "\n",
              "    .dataframe thead th {\n",
              "        text-align: right;\n",
              "    }\n",
              "</style>\n",
              "<table border=\"1\" class=\"dataframe\">\n",
              "  <thead>\n",
              "    <tr style=\"text-align: right;\">\n",
              "      <th></th>\n",
              "      <th>Year</th>\n",
              "      <th>Field of study</th>\n",
              "      <th>Median Employment Income</th>\n",
              "    </tr>\n",
              "  </thead>\n",
              "  <tbody>\n",
              "    <tr>\n",
              "      <th>391392</th>\n",
              "      <td>2011</td>\n",
              "      <td>Dental, medical and veterinary residency progr...</td>\n",
              "      <td>193600.0</td>\n",
              "    </tr>\n",
              "    <tr>\n",
              "      <th>391268</th>\n",
              "      <td>2011</td>\n",
              "      <td>Health and related fields [10]</td>\n",
              "      <td>193600.0</td>\n",
              "    </tr>\n",
              "    <tr>\n",
              "      <th>408998</th>\n",
              "      <td>2011</td>\n",
              "      <td>Business, management, marketing and related su...</td>\n",
              "      <td>104300.0</td>\n",
              "    </tr>\n",
              "  </tbody>\n",
              "</table>\n",
              "</div>"
            ],
            "text/plain": [
              "        Year  ... Median Employment Income\n",
              "391392  2011  ...                 193600.0\n",
              "391268  2011  ...                 193600.0\n",
              "408998  2011  ...                 104300.0\n",
              "\n",
              "[3 rows x 3 columns]"
            ]
          },
          "metadata": {
            "tags": []
          },
          "execution_count": 66
        }
      ]
    },
    {
      "cell_type": "markdown",
      "metadata": {
        "id": "yvNxdW_m38Qa",
        "colab_type": "text"
      },
      "source": [
        "### 2012 Top 3 Fields of Study That Yielded Highest Income"
      ]
    },
    {
      "cell_type": "code",
      "metadata": {
        "id": "GpPkNYDFB1Y8",
        "colab_type": "code",
        "outputId": "45f7313e-9a2d-4c6e-dbae-100ac7e6b143",
        "colab": {
          "base_uri": "https://localhost:8080/",
          "height": 139
        }
      },
      "source": [
        "data2012_descending = data2012[['Year','Field of study','Median Employment Income']].sort_values('Median Employment Income', ascending=False)   \n",
        "data2012_descending.head(n=3)"
      ],
      "execution_count": 0,
      "outputs": [
        {
          "output_type": "execute_result",
          "data": {
            "text/html": [
              "<div>\n",
              "<style scoped>\n",
              "    .dataframe tbody tr th:only-of-type {\n",
              "        vertical-align: middle;\n",
              "    }\n",
              "\n",
              "    .dataframe tbody tr th {\n",
              "        vertical-align: top;\n",
              "    }\n",
              "\n",
              "    .dataframe thead th {\n",
              "        text-align: right;\n",
              "    }\n",
              "</style>\n",
              "<table border=\"1\" class=\"dataframe\">\n",
              "  <thead>\n",
              "    <tr style=\"text-align: right;\">\n",
              "      <th></th>\n",
              "      <th>Year</th>\n",
              "      <th>Field of study</th>\n",
              "      <th>Median Employment Income</th>\n",
              "    </tr>\n",
              "  </thead>\n",
              "  <tbody>\n",
              "    <tr>\n",
              "      <th>752584</th>\n",
              "      <td>2012</td>\n",
              "      <td>Health and related fields [10]</td>\n",
              "      <td>164500.0</td>\n",
              "    </tr>\n",
              "    <tr>\n",
              "      <th>752707</th>\n",
              "      <td>2012</td>\n",
              "      <td>Dental, medical and veterinary residency progr...</td>\n",
              "      <td>164500.0</td>\n",
              "    </tr>\n",
              "    <tr>\n",
              "      <th>770017</th>\n",
              "      <td>2012</td>\n",
              "      <td>Business, management, marketing and related su...</td>\n",
              "      <td>103200.0</td>\n",
              "    </tr>\n",
              "  </tbody>\n",
              "</table>\n",
              "</div>"
            ],
            "text/plain": [
              "        Year  ... Median Employment Income\n",
              "752584  2012  ...                 164500.0\n",
              "752707  2012  ...                 164500.0\n",
              "770017  2012  ...                 103200.0\n",
              "\n",
              "[3 rows x 3 columns]"
            ]
          },
          "metadata": {
            "tags": []
          },
          "execution_count": 71
        }
      ]
    },
    {
      "cell_type": "markdown",
      "metadata": {
        "id": "NVfuzto-4EF6",
        "colab_type": "text"
      },
      "source": [
        "### 2013 Top 3 Fields of Study That Yielded Highest Income\n",
        "\n"
      ]
    },
    {
      "cell_type": "code",
      "metadata": {
        "id": "MfUsEYT6BtYp",
        "colab_type": "code",
        "outputId": "9289d29c-a946-40fb-f334-570ac1709e9c",
        "colab": {
          "base_uri": "https://localhost:8080/",
          "height": 139
        }
      },
      "source": [
        "data2013_descending = data2013[['Year','Field of study','Median Employment Income']].sort_values('Median Employment Income', ascending=False)\n",
        "data2013_descending.head(n=3) "
      ],
      "execution_count": 0,
      "outputs": [
        {
          "output_type": "execute_result",
          "data": {
            "text/html": [
              "<div>\n",
              "<style scoped>\n",
              "    .dataframe tbody tr th:only-of-type {\n",
              "        vertical-align: middle;\n",
              "    }\n",
              "\n",
              "    .dataframe tbody tr th {\n",
              "        vertical-align: top;\n",
              "    }\n",
              "\n",
              "    .dataframe thead th {\n",
              "        text-align: right;\n",
              "    }\n",
              "</style>\n",
              "<table border=\"1\" class=\"dataframe\">\n",
              "  <thead>\n",
              "    <tr style=\"text-align: right;\">\n",
              "      <th></th>\n",
              "      <th>Year</th>\n",
              "      <th>Field of study</th>\n",
              "      <th>Median Employment Income</th>\n",
              "    </tr>\n",
              "  </thead>\n",
              "  <tbody>\n",
              "    <tr>\n",
              "      <th>1123808</th>\n",
              "      <td>2013</td>\n",
              "      <td>Dental, medical and veterinary residency progr...</td>\n",
              "      <td>146600.0</td>\n",
              "    </tr>\n",
              "    <tr>\n",
              "      <th>1123686</th>\n",
              "      <td>2013</td>\n",
              "      <td>Health and related fields [10]</td>\n",
              "      <td>146600.0</td>\n",
              "    </tr>\n",
              "    <tr>\n",
              "      <th>1130490</th>\n",
              "      <td>2013</td>\n",
              "      <td>Security and protective services [43]</td>\n",
              "      <td>109300.0</td>\n",
              "    </tr>\n",
              "  </tbody>\n",
              "</table>\n",
              "</div>"
            ],
            "text/plain": [
              "         Year  ... Median Employment Income\n",
              "1123808  2013  ...                 146600.0\n",
              "1123686  2013  ...                 146600.0\n",
              "1130490  2013  ...                 109300.0\n",
              "\n",
              "[3 rows x 3 columns]"
            ]
          },
          "metadata": {
            "tags": []
          },
          "execution_count": 72
        }
      ]
    },
    {
      "cell_type": "markdown",
      "metadata": {
        "id": "aNiH9S9u4NJm",
        "colab_type": "text"
      },
      "source": [
        "### 2014 Top 3 Fields of Study That Yielded Highest Income"
      ]
    },
    {
      "cell_type": "code",
      "metadata": {
        "id": "2COt18t1B7Dq",
        "colab_type": "code",
        "outputId": "a058f2ee-4d3b-4a58-c9f5-04f327e1bc41",
        "colab": {
          "base_uri": "https://localhost:8080/",
          "height": 139
        }
      },
      "source": [
        "data2014_descending = data2014[['Year','Field of study','Median Employment Income']].sort_values('Median Employment Income', ascending=False)   \n",
        "data2014_descending.head(n=3)"
      ],
      "execution_count": 0,
      "outputs": [
        {
          "output_type": "execute_result",
          "data": {
            "text/html": [
              "<div>\n",
              "<style scoped>\n",
              "    .dataframe tbody tr th:only-of-type {\n",
              "        vertical-align: middle;\n",
              "    }\n",
              "\n",
              "    .dataframe tbody tr th {\n",
              "        vertical-align: top;\n",
              "    }\n",
              "\n",
              "    .dataframe thead th {\n",
              "        text-align: right;\n",
              "    }\n",
              "</style>\n",
              "<table border=\"1\" class=\"dataframe\">\n",
              "  <thead>\n",
              "    <tr style=\"text-align: right;\">\n",
              "      <th></th>\n",
              "      <th>Year</th>\n",
              "      <th>Field of study</th>\n",
              "      <th>Median Employment Income</th>\n",
              "    </tr>\n",
              "  </thead>\n",
              "  <tbody>\n",
              "    <tr>\n",
              "      <th>1495901</th>\n",
              "      <td>2014</td>\n",
              "      <td>Health and related fields [10]</td>\n",
              "      <td>145900.0</td>\n",
              "    </tr>\n",
              "    <tr>\n",
              "      <th>1496027</th>\n",
              "      <td>2014</td>\n",
              "      <td>Dental, medical and veterinary residency progr...</td>\n",
              "      <td>145900.0</td>\n",
              "    </tr>\n",
              "    <tr>\n",
              "      <th>1513439</th>\n",
              "      <td>2014</td>\n",
              "      <td>Business, management, marketing and related su...</td>\n",
              "      <td>103800.0</td>\n",
              "    </tr>\n",
              "  </tbody>\n",
              "</table>\n",
              "</div>"
            ],
            "text/plain": [
              "         Year  ... Median Employment Income\n",
              "1495901  2014  ...                 145900.0\n",
              "1496027  2014  ...                 145900.0\n",
              "1513439  2014  ...                 103800.0\n",
              "\n",
              "[3 rows x 3 columns]"
            ]
          },
          "metadata": {
            "tags": []
          },
          "execution_count": 73
        }
      ]
    },
    {
      "cell_type": "markdown",
      "metadata": {
        "id": "tTU_iKDI4R9R",
        "colab_type": "text"
      },
      "source": [
        "### 2015 Top 3 Fields of Study That Yielded Highest Income"
      ]
    },
    {
      "cell_type": "code",
      "metadata": {
        "id": "phRU62sY-EEJ",
        "colab_type": "code",
        "outputId": "41b6642f-af44-4e7f-d2e8-edbdd2179618",
        "colab": {
          "base_uri": "https://localhost:8080/",
          "height": 139
        }
      },
      "source": [
        "data2015_descending = data2015[['Year','Field of study','Median Employment Income']].sort_values('Median Employment Income', ascending=False) \n",
        "data2015_descending.head(n=3)"
      ],
      "execution_count": 0,
      "outputs": [
        {
          "output_type": "execute_result",
          "data": {
            "text/html": [
              "<div>\n",
              "<style scoped>\n",
              "    .dataframe tbody tr th:only-of-type {\n",
              "        vertical-align: middle;\n",
              "    }\n",
              "\n",
              "    .dataframe tbody tr th {\n",
              "        vertical-align: top;\n",
              "    }\n",
              "\n",
              "    .dataframe thead th {\n",
              "        text-align: right;\n",
              "    }\n",
              "</style>\n",
              "<table border=\"1\" class=\"dataframe\">\n",
              "  <thead>\n",
              "    <tr style=\"text-align: right;\">\n",
              "      <th></th>\n",
              "      <th>Year</th>\n",
              "      <th>Field of study</th>\n",
              "      <th>Median Employment Income</th>\n",
              "    </tr>\n",
              "  </thead>\n",
              "  <tbody>\n",
              "    <tr>\n",
              "      <th>1871136</th>\n",
              "      <td>2015</td>\n",
              "      <td>Dental, medical and veterinary residency progr...</td>\n",
              "      <td>139500.0</td>\n",
              "    </tr>\n",
              "    <tr>\n",
              "      <th>1871010</th>\n",
              "      <td>2015</td>\n",
              "      <td>Health and related fields [10]</td>\n",
              "      <td>139500.0</td>\n",
              "    </tr>\n",
              "    <tr>\n",
              "      <th>1856053</th>\n",
              "      <td>2015</td>\n",
              "      <td>Public administration and social service profe...</td>\n",
              "      <td>105800.0</td>\n",
              "    </tr>\n",
              "  </tbody>\n",
              "</table>\n",
              "</div>"
            ],
            "text/plain": [
              "         Year  ... Median Employment Income\n",
              "1871136  2015  ...                 139500.0\n",
              "1871010  2015  ...                 139500.0\n",
              "1856053  2015  ...                 105800.0\n",
              "\n",
              "[3 rows x 3 columns]"
            ]
          },
          "metadata": {
            "tags": []
          },
          "execution_count": 74
        }
      ]
    },
    {
      "cell_type": "markdown",
      "metadata": {
        "id": "5fEIE42s7xWv",
        "colab_type": "text"
      },
      "source": [
        "**Conclusion:**\n",
        "Although **\"Health and releated fields\"**, and **\"Dental, medical, and veterinary residency programs\"** tied for being the field of study that yielded the highest median employment income 2 years after graudation in Canada in all the years in which this study was done, **\"Health and related fields\"**, **\"Dental, Medical and veterinary residency programs\"**, and **\"Business, management, marketing and related support services\"** were consistently the top 3 fields of study that yielded the highest median empyloemtn income in all years of this study."
      ]
    }
  ]
}