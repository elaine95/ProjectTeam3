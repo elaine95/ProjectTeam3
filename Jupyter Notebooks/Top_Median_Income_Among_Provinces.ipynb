{
  "nbformat": 4,
  "nbformat_minor": 0,
  "metadata": {
    "colab": {
      "name": "Top Median Income Among Provinces.ipynb",
      "provenance": []
    },
    "kernelspec": {
      "name": "python3",
      "display_name": "Python 3"
    }
  },
  "cells": [
    {
      "cell_type": "markdown",
      "metadata": {
        "id": "_cJvZcyz6Smw",
        "colab_type": "text"
      },
      "source": [
        "**Data Clean and Preparation**"
      ]
    },
    {
      "cell_type": "code",
      "metadata": {
        "id": "iGrN5QRu6QY7",
        "colab_type": "code",
        "colab": {}
      },
      "source": [
        "import pandas as pd\n",
        "import zipfile\n",
        "import matplotlib.pyplot as plt\n",
        "\n",
        "#Preload dataset \n",
        "zf = zipfile.ZipFile('dataSet.zip') \n",
        "emp_dataset = pd.read_csv(zf.open('37100122.csv'))"
      ],
      "execution_count": 0,
      "outputs": []
    },
    {
      "cell_type": "code",
      "metadata": {
        "id": "Y0B2Rn2bGe9w",
        "colab_type": "code",
        "colab": {
          "base_uri": "https://localhost:8080/",
          "height": 483
        },
        "outputId": "269837f1-7a0b-4316-ea35-814cfd4c82b1"
      },
      "source": [
        "emp_dataset.info()"
      ],
      "execution_count": 2,
      "outputs": [
        {
          "output_type": "stream",
          "text": [
            "<class 'pandas.core.frame.DataFrame'>\n",
            "RangeIndex: 2189307 entries, 0 to 2189306\n",
            "Data columns (total 21 columns):\n",
            " #   Column                            Dtype  \n",
            "---  ------                            -----  \n",
            " 0   REF_DATE                          int64  \n",
            " 1   GEO                               object \n",
            " 2   DGUID                             object \n",
            " 3   Educational qualification         object \n",
            " 4   Field of study                    object \n",
            " 5   Gender                            object \n",
            " 6   Age group                         object \n",
            " 7   Status of student in Canada       object \n",
            " 8   Characteristics after graduation  object \n",
            " 9   Graduate statistics               object \n",
            " 10  UOM                               object \n",
            " 11  UOM_ID                            int64  \n",
            " 12  SCALAR_FACTOR                     object \n",
            " 13  SCALAR_ID                         int64  \n",
            " 14  VECTOR                            object \n",
            " 15  COORDINATE                        object \n",
            " 16  VALUE                             float64\n",
            " 17  STATUS                            object \n",
            " 18  SYMBOL                            float64\n",
            " 19  TERMINATED                        float64\n",
            " 20  DECIMALS                          int64  \n",
            "dtypes: float64(3), int64(4), object(14)\n",
            "memory usage: 350.8+ MB\n"
          ],
          "name": "stdout"
        }
      ]
    },
    {
      "cell_type": "code",
      "metadata": {
        "id": "sIfwSybJ2kO2",
        "colab_type": "code",
        "colab": {
          "base_uri": "https://localhost:8080/",
          "height": 266
        },
        "outputId": "0dee0e28-ab5f-4a77-bbe3-31d3c2d1779d"
      },
      "source": [
        "# Update data type \n",
        "emp_dataset = emp_dataset.astype('category')\n",
        "emp_dataset['VALUE'] = emp_dataset['VALUE'].astype('float64')\n",
        "emp_dataset.drop(emp_dataset[emp_dataset['Educational qualification'] =='Total, educational qualification'].index, inplace=True)\n",
        "emp_dataset.drop(['Gender','Age group', 'UOM','DGUID','UOM_ID','SCALAR_FACTOR','SCALAR_ID','VECTOR','COORDINATE','STATUS','SYMBOL','TERMINATED','DECIMALS'],axis=1, inplace=True)\n",
        "emp_dataset.info()"
      ],
      "execution_count": 3,
      "outputs": [
        {
          "output_type": "stream",
          "text": [
            "<class 'pandas.core.frame.DataFrame'>\n",
            "Int64Index: 1894258 entries, 5259 to 2189306\n",
            "Data columns (total 8 columns):\n",
            " #   Column                            Dtype   \n",
            "---  ------                            -----   \n",
            " 0   REF_DATE                          category\n",
            " 1   GEO                               category\n",
            " 2   Educational qualification         category\n",
            " 3   Field of study                    category\n",
            " 4   Status of student in Canada       category\n",
            " 5   Characteristics after graduation  category\n",
            " 6   Graduate statistics               category\n",
            " 7   VALUE                             float64 \n",
            "dtypes: category(7), float64(1)\n",
            "memory usage: 41.6 MB\n"
          ],
          "name": "stdout"
        }
      ]
    },
    {
      "cell_type": "code",
      "metadata": {
        "id": "ctME706o93Ml",
        "colab_type": "code",
        "colab": {
          "base_uri": "https://localhost:8080/",
          "height": 406
        },
        "outputId": "adb1b266-89f4-4b87-d957-fa234e30764f"
      },
      "source": [
        "emp_dataset"
      ],
      "execution_count": 4,
      "outputs": [
        {
          "output_type": "execute_result",
          "data": {
            "text/html": [
              "<div>\n",
              "<style scoped>\n",
              "    .dataframe tbody tr th:only-of-type {\n",
              "        vertical-align: middle;\n",
              "    }\n",
              "\n",
              "    .dataframe tbody tr th {\n",
              "        vertical-align: top;\n",
              "    }\n",
              "\n",
              "    .dataframe thead th {\n",
              "        text-align: right;\n",
              "    }\n",
              "</style>\n",
              "<table border=\"1\" class=\"dataframe\">\n",
              "  <thead>\n",
              "    <tr style=\"text-align: right;\">\n",
              "      <th></th>\n",
              "      <th>REF_DATE</th>\n",
              "      <th>GEO</th>\n",
              "      <th>Educational qualification</th>\n",
              "      <th>Field of study</th>\n",
              "      <th>Status of student in Canada</th>\n",
              "      <th>Characteristics after graduation</th>\n",
              "      <th>Graduate statistics</th>\n",
              "      <th>VALUE</th>\n",
              "    </tr>\n",
              "  </thead>\n",
              "  <tbody>\n",
              "    <tr>\n",
              "      <th>5259</th>\n",
              "      <td>2010</td>\n",
              "      <td>Canada</td>\n",
              "      <td>Career, technical or professional training sho...</td>\n",
              "      <td>Total, field of study</td>\n",
              "      <td>Canadian and international students</td>\n",
              "      <td>All graduates</td>\n",
              "      <td>Number of graduates</td>\n",
              "      <td>13560.0</td>\n",
              "    </tr>\n",
              "    <tr>\n",
              "      <th>5260</th>\n",
              "      <td>2010</td>\n",
              "      <td>Canada</td>\n",
              "      <td>Career, technical or professional training sho...</td>\n",
              "      <td>Total, field of study</td>\n",
              "      <td>Canadian and international students</td>\n",
              "      <td>Graduates with no income information</td>\n",
              "      <td>Number of graduates</td>\n",
              "      <td>2090.0</td>\n",
              "    </tr>\n",
              "    <tr>\n",
              "      <th>5261</th>\n",
              "      <td>2010</td>\n",
              "      <td>Canada</td>\n",
              "      <td>Career, technical or professional training sho...</td>\n",
              "      <td>Total, field of study</td>\n",
              "      <td>Canadian and international students</td>\n",
              "      <td>Full-time students</td>\n",
              "      <td>Number of graduates</td>\n",
              "      <td>640.0</td>\n",
              "    </tr>\n",
              "    <tr>\n",
              "      <th>5262</th>\n",
              "      <td>2010</td>\n",
              "      <td>Canada</td>\n",
              "      <td>Career, technical or professional training sho...</td>\n",
              "      <td>Total, field of study</td>\n",
              "      <td>Canadian and international students</td>\n",
              "      <td>Graduates reporting employment income</td>\n",
              "      <td>Number of graduates</td>\n",
              "      <td>10830.0</td>\n",
              "    </tr>\n",
              "    <tr>\n",
              "      <th>5263</th>\n",
              "      <td>2010</td>\n",
              "      <td>Canada</td>\n",
              "      <td>Career, technical or professional training sho...</td>\n",
              "      <td>Total, field of study</td>\n",
              "      <td>Canadian and international students</td>\n",
              "      <td>Graduates reporting employment income</td>\n",
              "      <td>Median employment income</td>\n",
              "      <td>35100.0</td>\n",
              "    </tr>\n",
              "    <tr>\n",
              "      <th>...</th>\n",
              "      <td>...</td>\n",
              "      <td>...</td>\n",
              "      <td>...</td>\n",
              "      <td>...</td>\n",
              "      <td>...</td>\n",
              "      <td>...</td>\n",
              "      <td>...</td>\n",
              "      <td>...</td>\n",
              "    </tr>\n",
              "    <tr>\n",
              "      <th>2189302</th>\n",
              "      <td>2015</td>\n",
              "      <td>Territories</td>\n",
              "      <td>Master's degree</td>\n",
              "      <td>Public administration and social service profe...</td>\n",
              "      <td>Canadian students</td>\n",
              "      <td>All graduates</td>\n",
              "      <td>Number of graduates</td>\n",
              "      <td>5.0</td>\n",
              "    </tr>\n",
              "    <tr>\n",
              "      <th>2189303</th>\n",
              "      <td>2015</td>\n",
              "      <td>Territories</td>\n",
              "      <td>Master's degree</td>\n",
              "      <td>Public administration and social service profe...</td>\n",
              "      <td>Canadian students</td>\n",
              "      <td>Graduates reporting employment income</td>\n",
              "      <td>Number of graduates</td>\n",
              "      <td>0.0</td>\n",
              "    </tr>\n",
              "    <tr>\n",
              "      <th>2189304</th>\n",
              "      <td>2015</td>\n",
              "      <td>Territories</td>\n",
              "      <td>Master's degree</td>\n",
              "      <td>Public administration and social service profe...</td>\n",
              "      <td>Canadian students</td>\n",
              "      <td>Graduates reporting employment income</td>\n",
              "      <td>Median employment income</td>\n",
              "      <td>NaN</td>\n",
              "    </tr>\n",
              "    <tr>\n",
              "      <th>2189305</th>\n",
              "      <td>2015</td>\n",
              "      <td>Territories</td>\n",
              "      <td>Master's degree</td>\n",
              "      <td>Public administration and social service profe...</td>\n",
              "      <td>Canadian students</td>\n",
              "      <td>Graduates reporting wages, salaries and commis...</td>\n",
              "      <td>Number of graduates</td>\n",
              "      <td>0.0</td>\n",
              "    </tr>\n",
              "    <tr>\n",
              "      <th>2189306</th>\n",
              "      <td>2015</td>\n",
              "      <td>Territories</td>\n",
              "      <td>Master's degree</td>\n",
              "      <td>Public administration and social service profe...</td>\n",
              "      <td>Canadian students</td>\n",
              "      <td>Graduates reporting wages, salaries and commis...</td>\n",
              "      <td>Median employment income</td>\n",
              "      <td>NaN</td>\n",
              "    </tr>\n",
              "  </tbody>\n",
              "</table>\n",
              "<p>1894258 rows × 8 columns</p>\n",
              "</div>"
            ],
            "text/plain": [
              "        REF_DATE          GEO  ...       Graduate statistics    VALUE\n",
              "5259        2010       Canada  ...       Number of graduates  13560.0\n",
              "5260        2010       Canada  ...       Number of graduates   2090.0\n",
              "5261        2010       Canada  ...       Number of graduates    640.0\n",
              "5262        2010       Canada  ...       Number of graduates  10830.0\n",
              "5263        2010       Canada  ...  Median employment income  35100.0\n",
              "...          ...          ...  ...                       ...      ...\n",
              "2189302     2015  Territories  ...       Number of graduates      5.0\n",
              "2189303     2015  Territories  ...       Number of graduates      0.0\n",
              "2189304     2015  Territories  ...  Median employment income      NaN\n",
              "2189305     2015  Territories  ...       Number of graduates      0.0\n",
              "2189306     2015  Territories  ...  Median employment income      NaN\n",
              "\n",
              "[1894258 rows x 8 columns]"
            ]
          },
          "metadata": {
            "tags": []
          },
          "execution_count": 4
        }
      ]
    },
    {
      "cell_type": "code",
      "metadata": {
        "id": "sNBCiVX9_l-e",
        "colab_type": "code",
        "colab": {
          "base_uri": "https://localhost:8080/",
          "height": 406
        },
        "outputId": "71ac876c-a3bb-4e83-86f7-aa2db1338183"
      },
      "source": [
        "# Get graduate student data who are reporting income\n",
        "vGraduate_statistics = ['Graduates reporting employment income','Graduates reporting wages, salaries and commissions only']\n",
        "emp_income_reportedIncome = emp_dataset.loc[emp_dataset['Characteristics after graduation'].isin(vGraduate_statistics)]\n",
        "emp_income_reportedIncome"
      ],
      "execution_count": 5,
      "outputs": [
        {
          "output_type": "execute_result",
          "data": {
            "text/html": [
              "<div>\n",
              "<style scoped>\n",
              "    .dataframe tbody tr th:only-of-type {\n",
              "        vertical-align: middle;\n",
              "    }\n",
              "\n",
              "    .dataframe tbody tr th {\n",
              "        vertical-align: top;\n",
              "    }\n",
              "\n",
              "    .dataframe thead th {\n",
              "        text-align: right;\n",
              "    }\n",
              "</style>\n",
              "<table border=\"1\" class=\"dataframe\">\n",
              "  <thead>\n",
              "    <tr style=\"text-align: right;\">\n",
              "      <th></th>\n",
              "      <th>REF_DATE</th>\n",
              "      <th>GEO</th>\n",
              "      <th>Educational qualification</th>\n",
              "      <th>Field of study</th>\n",
              "      <th>Status of student in Canada</th>\n",
              "      <th>Characteristics after graduation</th>\n",
              "      <th>Graduate statistics</th>\n",
              "      <th>VALUE</th>\n",
              "    </tr>\n",
              "  </thead>\n",
              "  <tbody>\n",
              "    <tr>\n",
              "      <th>5262</th>\n",
              "      <td>2010</td>\n",
              "      <td>Canada</td>\n",
              "      <td>Career, technical or professional training sho...</td>\n",
              "      <td>Total, field of study</td>\n",
              "      <td>Canadian and international students</td>\n",
              "      <td>Graduates reporting employment income</td>\n",
              "      <td>Number of graduates</td>\n",
              "      <td>10830.0</td>\n",
              "    </tr>\n",
              "    <tr>\n",
              "      <th>5263</th>\n",
              "      <td>2010</td>\n",
              "      <td>Canada</td>\n",
              "      <td>Career, technical or professional training sho...</td>\n",
              "      <td>Total, field of study</td>\n",
              "      <td>Canadian and international students</td>\n",
              "      <td>Graduates reporting employment income</td>\n",
              "      <td>Median employment income</td>\n",
              "      <td>35100.0</td>\n",
              "    </tr>\n",
              "    <tr>\n",
              "      <th>5264</th>\n",
              "      <td>2010</td>\n",
              "      <td>Canada</td>\n",
              "      <td>Career, technical or professional training sho...</td>\n",
              "      <td>Total, field of study</td>\n",
              "      <td>Canadian and international students</td>\n",
              "      <td>Graduates reporting wages, salaries and commis...</td>\n",
              "      <td>Number of graduates</td>\n",
              "      <td>8715.0</td>\n",
              "    </tr>\n",
              "    <tr>\n",
              "      <th>5265</th>\n",
              "      <td>2010</td>\n",
              "      <td>Canada</td>\n",
              "      <td>Career, technical or professional training sho...</td>\n",
              "      <td>Total, field of study</td>\n",
              "      <td>Canadian and international students</td>\n",
              "      <td>Graduates reporting wages, salaries and commis...</td>\n",
              "      <td>Median employment income</td>\n",
              "      <td>36700.0</td>\n",
              "    </tr>\n",
              "    <tr>\n",
              "      <th>5269</th>\n",
              "      <td>2010</td>\n",
              "      <td>Canada</td>\n",
              "      <td>Career, technical or professional training sho...</td>\n",
              "      <td>Total, field of study</td>\n",
              "      <td>Canadian students</td>\n",
              "      <td>Graduates reporting employment income</td>\n",
              "      <td>Number of graduates</td>\n",
              "      <td>10685.0</td>\n",
              "    </tr>\n",
              "    <tr>\n",
              "      <th>...</th>\n",
              "      <td>...</td>\n",
              "      <td>...</td>\n",
              "      <td>...</td>\n",
              "      <td>...</td>\n",
              "      <td>...</td>\n",
              "      <td>...</td>\n",
              "      <td>...</td>\n",
              "      <td>...</td>\n",
              "    </tr>\n",
              "    <tr>\n",
              "      <th>2189301</th>\n",
              "      <td>2015</td>\n",
              "      <td>Territories</td>\n",
              "      <td>Master's degree</td>\n",
              "      <td>Public administration and social service profe...</td>\n",
              "      <td>Canadian and international students</td>\n",
              "      <td>Graduates reporting wages, salaries and commis...</td>\n",
              "      <td>Median employment income</td>\n",
              "      <td>NaN</td>\n",
              "    </tr>\n",
              "    <tr>\n",
              "      <th>2189303</th>\n",
              "      <td>2015</td>\n",
              "      <td>Territories</td>\n",
              "      <td>Master's degree</td>\n",
              "      <td>Public administration and social service profe...</td>\n",
              "      <td>Canadian students</td>\n",
              "      <td>Graduates reporting employment income</td>\n",
              "      <td>Number of graduates</td>\n",
              "      <td>0.0</td>\n",
              "    </tr>\n",
              "    <tr>\n",
              "      <th>2189304</th>\n",
              "      <td>2015</td>\n",
              "      <td>Territories</td>\n",
              "      <td>Master's degree</td>\n",
              "      <td>Public administration and social service profe...</td>\n",
              "      <td>Canadian students</td>\n",
              "      <td>Graduates reporting employment income</td>\n",
              "      <td>Median employment income</td>\n",
              "      <td>NaN</td>\n",
              "    </tr>\n",
              "    <tr>\n",
              "      <th>2189305</th>\n",
              "      <td>2015</td>\n",
              "      <td>Territories</td>\n",
              "      <td>Master's degree</td>\n",
              "      <td>Public administration and social service profe...</td>\n",
              "      <td>Canadian students</td>\n",
              "      <td>Graduates reporting wages, salaries and commis...</td>\n",
              "      <td>Number of graduates</td>\n",
              "      <td>0.0</td>\n",
              "    </tr>\n",
              "    <tr>\n",
              "      <th>2189306</th>\n",
              "      <td>2015</td>\n",
              "      <td>Territories</td>\n",
              "      <td>Master's degree</td>\n",
              "      <td>Public administration and social service profe...</td>\n",
              "      <td>Canadian students</td>\n",
              "      <td>Graduates reporting wages, salaries and commis...</td>\n",
              "      <td>Median employment income</td>\n",
              "      <td>NaN</td>\n",
              "    </tr>\n",
              "  </tbody>\n",
              "</table>\n",
              "<p>1169499 rows × 8 columns</p>\n",
              "</div>"
            ],
            "text/plain": [
              "        REF_DATE          GEO  ...       Graduate statistics    VALUE\n",
              "5262        2010       Canada  ...       Number of graduates  10830.0\n",
              "5263        2010       Canada  ...  Median employment income  35100.0\n",
              "5264        2010       Canada  ...       Number of graduates   8715.0\n",
              "5265        2010       Canada  ...  Median employment income  36700.0\n",
              "5269        2010       Canada  ...       Number of graduates  10685.0\n",
              "...          ...          ...  ...                       ...      ...\n",
              "2189301     2015  Territories  ...  Median employment income      NaN\n",
              "2189303     2015  Territories  ...       Number of graduates      0.0\n",
              "2189304     2015  Territories  ...  Median employment income      NaN\n",
              "2189305     2015  Territories  ...       Number of graduates      0.0\n",
              "2189306     2015  Territories  ...  Median employment income      NaN\n",
              "\n",
              "[1169499 rows x 8 columns]"
            ]
          },
          "metadata": {
            "tags": []
          },
          "execution_count": 5
        }
      ]
    },
    {
      "cell_type": "code",
      "metadata": {
        "id": "Med41SX9Df_I",
        "colab_type": "code",
        "colab": {
          "base_uri": "https://localhost:8080/",
          "height": 406
        },
        "outputId": "4dc7e62e-4748-4a27-f6eb-4d88c9115c0f"
      },
      "source": [
        "# Get data for Graduate statistics with median employement income \n",
        "emp_income_median = emp_income_reportedIncome.loc[emp_income_reportedIncome['Graduate statistics'] == 'Median employment income']\n",
        "emp_income_median"
      ],
      "execution_count": 6,
      "outputs": [
        {
          "output_type": "execute_result",
          "data": {
            "text/html": [
              "<div>\n",
              "<style scoped>\n",
              "    .dataframe tbody tr th:only-of-type {\n",
              "        vertical-align: middle;\n",
              "    }\n",
              "\n",
              "    .dataframe tbody tr th {\n",
              "        vertical-align: top;\n",
              "    }\n",
              "\n",
              "    .dataframe thead th {\n",
              "        text-align: right;\n",
              "    }\n",
              "</style>\n",
              "<table border=\"1\" class=\"dataframe\">\n",
              "  <thead>\n",
              "    <tr style=\"text-align: right;\">\n",
              "      <th></th>\n",
              "      <th>REF_DATE</th>\n",
              "      <th>GEO</th>\n",
              "      <th>Educational qualification</th>\n",
              "      <th>Field of study</th>\n",
              "      <th>Status of student in Canada</th>\n",
              "      <th>Characteristics after graduation</th>\n",
              "      <th>Graduate statistics</th>\n",
              "      <th>VALUE</th>\n",
              "    </tr>\n",
              "  </thead>\n",
              "  <tbody>\n",
              "    <tr>\n",
              "      <th>5263</th>\n",
              "      <td>2010</td>\n",
              "      <td>Canada</td>\n",
              "      <td>Career, technical or professional training sho...</td>\n",
              "      <td>Total, field of study</td>\n",
              "      <td>Canadian and international students</td>\n",
              "      <td>Graduates reporting employment income</td>\n",
              "      <td>Median employment income</td>\n",
              "      <td>35100.0</td>\n",
              "    </tr>\n",
              "    <tr>\n",
              "      <th>5265</th>\n",
              "      <td>2010</td>\n",
              "      <td>Canada</td>\n",
              "      <td>Career, technical or professional training sho...</td>\n",
              "      <td>Total, field of study</td>\n",
              "      <td>Canadian and international students</td>\n",
              "      <td>Graduates reporting wages, salaries and commis...</td>\n",
              "      <td>Median employment income</td>\n",
              "      <td>36700.0</td>\n",
              "    </tr>\n",
              "    <tr>\n",
              "      <th>5270</th>\n",
              "      <td>2010</td>\n",
              "      <td>Canada</td>\n",
              "      <td>Career, technical or professional training sho...</td>\n",
              "      <td>Total, field of study</td>\n",
              "      <td>Canadian students</td>\n",
              "      <td>Graduates reporting employment income</td>\n",
              "      <td>Median employment income</td>\n",
              "      <td>35200.0</td>\n",
              "    </tr>\n",
              "    <tr>\n",
              "      <th>5272</th>\n",
              "      <td>2010</td>\n",
              "      <td>Canada</td>\n",
              "      <td>Career, technical or professional training sho...</td>\n",
              "      <td>Total, field of study</td>\n",
              "      <td>Canadian students</td>\n",
              "      <td>Graduates reporting wages, salaries and commis...</td>\n",
              "      <td>Median employment income</td>\n",
              "      <td>36800.0</td>\n",
              "    </tr>\n",
              "    <tr>\n",
              "      <th>5277</th>\n",
              "      <td>2010</td>\n",
              "      <td>Canada</td>\n",
              "      <td>Career, technical or professional training sho...</td>\n",
              "      <td>Total, field of study</td>\n",
              "      <td>Canadian and international students</td>\n",
              "      <td>Graduates reporting employment income</td>\n",
              "      <td>Median employment income</td>\n",
              "      <td>33900.0</td>\n",
              "    </tr>\n",
              "    <tr>\n",
              "      <th>...</th>\n",
              "      <td>...</td>\n",
              "      <td>...</td>\n",
              "      <td>...</td>\n",
              "      <td>...</td>\n",
              "      <td>...</td>\n",
              "      <td>...</td>\n",
              "      <td>...</td>\n",
              "      <td>...</td>\n",
              "    </tr>\n",
              "    <tr>\n",
              "      <th>2189296</th>\n",
              "      <td>2015</td>\n",
              "      <td>Territories</td>\n",
              "      <td>Master's degree</td>\n",
              "      <td>Public administration and social service profe...</td>\n",
              "      <td>Canadian students</td>\n",
              "      <td>Graduates reporting wages, salaries and commis...</td>\n",
              "      <td>Median employment income</td>\n",
              "      <td>NaN</td>\n",
              "    </tr>\n",
              "    <tr>\n",
              "      <th>2189299</th>\n",
              "      <td>2015</td>\n",
              "      <td>Territories</td>\n",
              "      <td>Master's degree</td>\n",
              "      <td>Public administration and social service profe...</td>\n",
              "      <td>Canadian and international students</td>\n",
              "      <td>Graduates reporting employment income</td>\n",
              "      <td>Median employment income</td>\n",
              "      <td>NaN</td>\n",
              "    </tr>\n",
              "    <tr>\n",
              "      <th>2189301</th>\n",
              "      <td>2015</td>\n",
              "      <td>Territories</td>\n",
              "      <td>Master's degree</td>\n",
              "      <td>Public administration and social service profe...</td>\n",
              "      <td>Canadian and international students</td>\n",
              "      <td>Graduates reporting wages, salaries and commis...</td>\n",
              "      <td>Median employment income</td>\n",
              "      <td>NaN</td>\n",
              "    </tr>\n",
              "    <tr>\n",
              "      <th>2189304</th>\n",
              "      <td>2015</td>\n",
              "      <td>Territories</td>\n",
              "      <td>Master's degree</td>\n",
              "      <td>Public administration and social service profe...</td>\n",
              "      <td>Canadian students</td>\n",
              "      <td>Graduates reporting employment income</td>\n",
              "      <td>Median employment income</td>\n",
              "      <td>NaN</td>\n",
              "    </tr>\n",
              "    <tr>\n",
              "      <th>2189306</th>\n",
              "      <td>2015</td>\n",
              "      <td>Territories</td>\n",
              "      <td>Master's degree</td>\n",
              "      <td>Public administration and social service profe...</td>\n",
              "      <td>Canadian students</td>\n",
              "      <td>Graduates reporting wages, salaries and commis...</td>\n",
              "      <td>Median employment income</td>\n",
              "      <td>NaN</td>\n",
              "    </tr>\n",
              "  </tbody>\n",
              "</table>\n",
              "<p>581157 rows × 8 columns</p>\n",
              "</div>"
            ],
            "text/plain": [
              "        REF_DATE          GEO  ...       Graduate statistics    VALUE\n",
              "5263        2010       Canada  ...  Median employment income  35100.0\n",
              "5265        2010       Canada  ...  Median employment income  36700.0\n",
              "5270        2010       Canada  ...  Median employment income  35200.0\n",
              "5272        2010       Canada  ...  Median employment income  36800.0\n",
              "5277        2010       Canada  ...  Median employment income  33900.0\n",
              "...          ...          ...  ...                       ...      ...\n",
              "2189296     2015  Territories  ...  Median employment income      NaN\n",
              "2189299     2015  Territories  ...  Median employment income      NaN\n",
              "2189301     2015  Territories  ...  Median employment income      NaN\n",
              "2189304     2015  Territories  ...  Median employment income      NaN\n",
              "2189306     2015  Territories  ...  Median employment income      NaN\n",
              "\n",
              "[581157 rows x 8 columns]"
            ]
          },
          "metadata": {
            "tags": []
          },
          "execution_count": 6
        }
      ]
    },
    {
      "cell_type": "markdown",
      "metadata": {
        "id": "ENbqp3vlQf8V",
        "colab_type": "text"
      },
      "source": [
        "# Which province has the highest median income and which has the lowest?"
      ]
    },
    {
      "cell_type": "code",
      "metadata": {
        "id": "OvqFmiY-Olhx",
        "colab_type": "code",
        "colab": {
          "base_uri": "https://localhost:8080/",
          "height": 406
        },
        "outputId": "f3391a7a-1a4a-4d42-c154-c0acc7706a6c"
      },
      "source": [
        "# First select the total field of study for all provinces and exclude 'Canada'\n",
        "\n",
        "emp_income_median_total_field_study = emp_income_median.drop(emp_income_median[emp_income_median['GEO'] == 'Canada'].index)\n",
        "emp_income_median_total_field_study = emp_income_median_total_field_study.loc[emp_income_median_total_field_study['Field of study'] == 'Total, field of study']\n",
        "emp_income_median_total_field_study"
      ],
      "execution_count": 7,
      "outputs": [
        {
          "output_type": "execute_result",
          "data": {
            "text/html": [
              "<div>\n",
              "<style scoped>\n",
              "    .dataframe tbody tr th:only-of-type {\n",
              "        vertical-align: middle;\n",
              "    }\n",
              "\n",
              "    .dataframe tbody tr th {\n",
              "        vertical-align: top;\n",
              "    }\n",
              "\n",
              "    .dataframe thead th {\n",
              "        text-align: right;\n",
              "    }\n",
              "</style>\n",
              "<table border=\"1\" class=\"dataframe\">\n",
              "  <thead>\n",
              "    <tr style=\"text-align: right;\">\n",
              "      <th></th>\n",
              "      <th>REF_DATE</th>\n",
              "      <th>GEO</th>\n",
              "      <th>Educational qualification</th>\n",
              "      <th>Field of study</th>\n",
              "      <th>Status of student in Canada</th>\n",
              "      <th>Characteristics after graduation</th>\n",
              "      <th>Graduate statistics</th>\n",
              "      <th>VALUE</th>\n",
              "    </tr>\n",
              "  </thead>\n",
              "  <tbody>\n",
              "    <tr>\n",
              "      <th>75900</th>\n",
              "      <td>2010</td>\n",
              "      <td>Newfoundland and Labrador</td>\n",
              "      <td>Career, technical or professional training cer...</td>\n",
              "      <td>Total, field of study</td>\n",
              "      <td>Canadian and international students</td>\n",
              "      <td>Graduates reporting employment income</td>\n",
              "      <td>Median employment income</td>\n",
              "      <td>42200.0</td>\n",
              "    </tr>\n",
              "    <tr>\n",
              "      <th>75902</th>\n",
              "      <td>2010</td>\n",
              "      <td>Newfoundland and Labrador</td>\n",
              "      <td>Career, technical or professional training cer...</td>\n",
              "      <td>Total, field of study</td>\n",
              "      <td>Canadian and international students</td>\n",
              "      <td>Graduates reporting wages, salaries and commis...</td>\n",
              "      <td>Median employment income</td>\n",
              "      <td>42800.0</td>\n",
              "    </tr>\n",
              "    <tr>\n",
              "      <th>75907</th>\n",
              "      <td>2010</td>\n",
              "      <td>Newfoundland and Labrador</td>\n",
              "      <td>Career, technical or professional training cer...</td>\n",
              "      <td>Total, field of study</td>\n",
              "      <td>Canadian students</td>\n",
              "      <td>Graduates reporting employment income</td>\n",
              "      <td>Median employment income</td>\n",
              "      <td>42200.0</td>\n",
              "    </tr>\n",
              "    <tr>\n",
              "      <th>75909</th>\n",
              "      <td>2010</td>\n",
              "      <td>Newfoundland and Labrador</td>\n",
              "      <td>Career, technical or professional training cer...</td>\n",
              "      <td>Total, field of study</td>\n",
              "      <td>Canadian students</td>\n",
              "      <td>Graduates reporting wages, salaries and commis...</td>\n",
              "      <td>Median employment income</td>\n",
              "      <td>42800.0</td>\n",
              "    </tr>\n",
              "    <tr>\n",
              "      <th>75914</th>\n",
              "      <td>2010</td>\n",
              "      <td>Newfoundland and Labrador</td>\n",
              "      <td>Career, technical or professional training cer...</td>\n",
              "      <td>Total, field of study</td>\n",
              "      <td>Canadian and international students</td>\n",
              "      <td>Graduates reporting employment income</td>\n",
              "      <td>Median employment income</td>\n",
              "      <td>43300.0</td>\n",
              "    </tr>\n",
              "    <tr>\n",
              "      <th>...</th>\n",
              "      <td>...</td>\n",
              "      <td>...</td>\n",
              "      <td>...</td>\n",
              "      <td>...</td>\n",
              "      <td>...</td>\n",
              "      <td>...</td>\n",
              "      <td>...</td>\n",
              "      <td>...</td>\n",
              "    </tr>\n",
              "    <tr>\n",
              "      <th>2189216</th>\n",
              "      <td>2015</td>\n",
              "      <td>Territories</td>\n",
              "      <td>Master's degree</td>\n",
              "      <td>Total, field of study</td>\n",
              "      <td>Canadian students</td>\n",
              "      <td>Graduates reporting wages, salaries and commis...</td>\n",
              "      <td>Median employment income</td>\n",
              "      <td>NaN</td>\n",
              "    </tr>\n",
              "    <tr>\n",
              "      <th>2189219</th>\n",
              "      <td>2015</td>\n",
              "      <td>Territories</td>\n",
              "      <td>Master's degree</td>\n",
              "      <td>Total, field of study</td>\n",
              "      <td>Canadian and international students</td>\n",
              "      <td>Graduates reporting employment income</td>\n",
              "      <td>Median employment income</td>\n",
              "      <td>NaN</td>\n",
              "    </tr>\n",
              "    <tr>\n",
              "      <th>2189221</th>\n",
              "      <td>2015</td>\n",
              "      <td>Territories</td>\n",
              "      <td>Master's degree</td>\n",
              "      <td>Total, field of study</td>\n",
              "      <td>Canadian and international students</td>\n",
              "      <td>Graduates reporting wages, salaries and commis...</td>\n",
              "      <td>Median employment income</td>\n",
              "      <td>NaN</td>\n",
              "    </tr>\n",
              "    <tr>\n",
              "      <th>2189224</th>\n",
              "      <td>2015</td>\n",
              "      <td>Territories</td>\n",
              "      <td>Master's degree</td>\n",
              "      <td>Total, field of study</td>\n",
              "      <td>Canadian students</td>\n",
              "      <td>Graduates reporting employment income</td>\n",
              "      <td>Median employment income</td>\n",
              "      <td>NaN</td>\n",
              "    </tr>\n",
              "    <tr>\n",
              "      <th>2189226</th>\n",
              "      <td>2015</td>\n",
              "      <td>Territories</td>\n",
              "      <td>Master's degree</td>\n",
              "      <td>Total, field of study</td>\n",
              "      <td>Canadian students</td>\n",
              "      <td>Graduates reporting wages, salaries and commis...</td>\n",
              "      <td>Median employment income</td>\n",
              "      <td>NaN</td>\n",
              "    </tr>\n",
              "  </tbody>\n",
              "</table>\n",
              "<p>28172 rows × 8 columns</p>\n",
              "</div>"
            ],
            "text/plain": [
              "        REF_DATE                        GEO  ...       Graduate statistics    VALUE\n",
              "75900       2010  Newfoundland and Labrador  ...  Median employment income  42200.0\n",
              "75902       2010  Newfoundland and Labrador  ...  Median employment income  42800.0\n",
              "75907       2010  Newfoundland and Labrador  ...  Median employment income  42200.0\n",
              "75909       2010  Newfoundland and Labrador  ...  Median employment income  42800.0\n",
              "75914       2010  Newfoundland and Labrador  ...  Median employment income  43300.0\n",
              "...          ...                        ...  ...                       ...      ...\n",
              "2189216     2015                Territories  ...  Median employment income      NaN\n",
              "2189219     2015                Territories  ...  Median employment income      NaN\n",
              "2189221     2015                Territories  ...  Median employment income      NaN\n",
              "2189224     2015                Territories  ...  Median employment income      NaN\n",
              "2189226     2015                Territories  ...  Median employment income      NaN\n",
              "\n",
              "[28172 rows x 8 columns]"
            ]
          },
          "metadata": {
            "tags": []
          },
          "execution_count": 7
        }
      ]
    },
    {
      "cell_type": "code",
      "metadata": {
        "id": "VSi5fO85PaPb",
        "colab_type": "code",
        "colab": {
          "base_uri": "https://localhost:8080/",
          "height": 437
        },
        "outputId": "ff3637d5-1e63-48ae-a0b1-9e3b445fc411"
      },
      "source": [
        "# Sort the income by provinces \n",
        "emp_allField_by_province = emp_income_median_total_field_study[['GEO', 'VALUE']].groupby(['GEO']).mean()\n",
        "emp_allField_by_province.sort_values(by=['VALUE'], ascending=False)\n"
      ],
      "execution_count": 8,
      "outputs": [
        {
          "output_type": "execute_result",
          "data": {
            "text/html": [
              "<div>\n",
              "<style scoped>\n",
              "    .dataframe tbody tr th:only-of-type {\n",
              "        vertical-align: middle;\n",
              "    }\n",
              "\n",
              "    .dataframe tbody tr th {\n",
              "        vertical-align: top;\n",
              "    }\n",
              "\n",
              "    .dataframe thead th {\n",
              "        text-align: right;\n",
              "    }\n",
              "</style>\n",
              "<table border=\"1\" class=\"dataframe\">\n",
              "  <thead>\n",
              "    <tr style=\"text-align: right;\">\n",
              "      <th></th>\n",
              "      <th>VALUE</th>\n",
              "    </tr>\n",
              "    <tr>\n",
              "      <th>GEO</th>\n",
              "      <th></th>\n",
              "    </tr>\n",
              "  </thead>\n",
              "  <tbody>\n",
              "    <tr>\n",
              "      <th>Alberta</th>\n",
              "      <td>72469.680530</td>\n",
              "    </tr>\n",
              "    <tr>\n",
              "      <th>Saskatchewan</th>\n",
              "      <td>66107.890319</td>\n",
              "    </tr>\n",
              "    <tr>\n",
              "      <th>Ontario</th>\n",
              "      <td>60213.293217</td>\n",
              "    </tr>\n",
              "    <tr>\n",
              "      <th>British Columbia</th>\n",
              "      <td>59671.256727</td>\n",
              "    </tr>\n",
              "    <tr>\n",
              "      <th>Manitoba</th>\n",
              "      <td>58337.091121</td>\n",
              "    </tr>\n",
              "    <tr>\n",
              "      <th>Newfoundland and Labrador</th>\n",
              "      <td>58084.043377</td>\n",
              "    </tr>\n",
              "    <tr>\n",
              "      <th>Quebec</th>\n",
              "      <td>57577.442053</td>\n",
              "    </tr>\n",
              "    <tr>\n",
              "      <th>Nova Scotia</th>\n",
              "      <td>52814.752314</td>\n",
              "    </tr>\n",
              "    <tr>\n",
              "      <th>Territories</th>\n",
              "      <td>50043.333333</td>\n",
              "    </tr>\n",
              "    <tr>\n",
              "      <th>New Brunswick</th>\n",
              "      <td>49872.467320</td>\n",
              "    </tr>\n",
              "    <tr>\n",
              "      <th>Prince Edward Island</th>\n",
              "      <td>48741.544118</td>\n",
              "    </tr>\n",
              "    <tr>\n",
              "      <th>Canada</th>\n",
              "      <td>NaN</td>\n",
              "    </tr>\n",
              "  </tbody>\n",
              "</table>\n",
              "</div>"
            ],
            "text/plain": [
              "                                  VALUE\n",
              "GEO                                    \n",
              "Alberta                    72469.680530\n",
              "Saskatchewan               66107.890319\n",
              "Ontario                    60213.293217\n",
              "British Columbia           59671.256727\n",
              "Manitoba                   58337.091121\n",
              "Newfoundland and Labrador  58084.043377\n",
              "Quebec                     57577.442053\n",
              "Nova Scotia                52814.752314\n",
              "Territories                50043.333333\n",
              "New Brunswick              49872.467320\n",
              "Prince Edward Island       48741.544118\n",
              "Canada                              NaN"
            ]
          },
          "metadata": {
            "tags": []
          },
          "execution_count": 8
        }
      ]
    },
    {
      "cell_type": "code",
      "metadata": {
        "id": "pAh8bnGVTspq",
        "colab_type": "code",
        "colab": {
          "base_uri": "https://localhost:8080/",
          "height": 426
        },
        "outputId": "61b8c6b1-29e4-4909-fc9f-dd0be2fb721a"
      },
      "source": [
        "emp_allField_by_province.sort_values('VALUE', ascending=False).plot(kind='bar', title='Employment median income by all field of study')\n",
        "plt.show()\n",
        "\n",
        "# This chart has shown that Alberta has the highest income for around 7,2469 whereas Prince edward Island has the lowest median income 4,8741 for all field of study"
      ],
      "execution_count": 9,
      "outputs": [
        {
          "output_type": "display_data",
          "data": {
            "image/png": "[encoded data removed]",
            "text/plain": [
              "<Figure size 432x288 with 1 Axes>"
            ]
          },
          "metadata": {
            "tags": [],
            "needs_background": "light"
          }
        }
      ]
    },
    {
      "cell_type": "markdown",
      "metadata": {
        "id": "u8xvd5CIQ9Jz",
        "colab_type": "text"
      },
      "source": [
        "# What field of study has the highest median income in each Province? \n"
      ]
    },
    {
      "cell_type": "markdown",
      "metadata": {
        "id": "O52HW6OnXJWN",
        "colab_type": "text"
      },
      "source": [
        "*Alberta top 1 field of study of median income*"
      ]
    },
    {
      "cell_type": "code",
      "metadata": {
        "id": "6FW3161QQaHj",
        "colab_type": "code",
        "colab": {
          "base_uri": "https://localhost:8080/",
          "height": 107
        },
        "outputId": "c668cc53-a1ab-422c-943a-5006a6eb404b"
      },
      "source": [
        "emp_income_Alberta = emp_income_median.loc[emp_income_median['GEO'] == 'Alberta']\n",
        "emp_income_Alberta_sorted = emp_income_Alberta[['Field of study', 'VALUE']].groupby('Field of study').mean()\n",
        "emp_income_Alberta_sorted['Province'] = 'AB'\n",
        "Alberta_top1 = emp_income_Alberta_sorted.sort_values(by=['VALUE'], ascending=False).head(1)\n",
        "Alberta_top1"
      ],
      "execution_count": 10,
      "outputs": [
        {
          "output_type": "execute_result",
          "data": {
            "text/html": [
              "<div>\n",
              "<style scoped>\n",
              "    .dataframe tbody tr th:only-of-type {\n",
              "        vertical-align: middle;\n",
              "    }\n",
              "\n",
              "    .dataframe tbody tr th {\n",
              "        vertical-align: top;\n",
              "    }\n",
              "\n",
              "    .dataframe thead th {\n",
              "        text-align: right;\n",
              "    }\n",
              "</style>\n",
              "<table border=\"1\" class=\"dataframe\">\n",
              "  <thead>\n",
              "    <tr style=\"text-align: right;\">\n",
              "      <th></th>\n",
              "      <th>VALUE</th>\n",
              "      <th>Province</th>\n",
              "    </tr>\n",
              "    <tr>\n",
              "      <th>Field of study</th>\n",
              "      <th></th>\n",
              "      <th></th>\n",
              "    </tr>\n",
              "  </thead>\n",
              "  <tbody>\n",
              "    <tr>\n",
              "      <th>Engineering [14]</th>\n",
              "      <td>85273.239437</td>\n",
              "      <td>AB</td>\n",
              "    </tr>\n",
              "  </tbody>\n",
              "</table>\n",
              "</div>"
            ],
            "text/plain": [
              "                         VALUE Province\n",
              "Field of study                         \n",
              "Engineering [14]  85273.239437       AB"
            ]
          },
          "metadata": {
            "tags": []
          },
          "execution_count": 10
        }
      ]
    },
    {
      "cell_type": "markdown",
      "metadata": {
        "id": "erca7NAjXewW",
        "colab_type": "text"
      },
      "source": [
        "*Saskatchewan top 1 field of study of median income*"
      ]
    },
    {
      "cell_type": "code",
      "metadata": {
        "id": "7dXkY91oXFKu",
        "colab_type": "code",
        "colab": {
          "base_uri": "https://localhost:8080/",
          "height": 107
        },
        "outputId": "492efb05-1970-4819-b8de-6bf0ff5daafb"
      },
      "source": [
        "emp_income_Saskatchewan = emp_income_median.loc[emp_income_median['GEO'] == 'Saskatchewan']\n",
        "emp_income_Saskatchewan_sorted = emp_income_Saskatchewan[['Field of study', 'VALUE']].groupby('Field of study').mean()\n",
        "emp_income_Saskatchewan_sorted['Province'] = 'SK'\n",
        "Saskatchewan_top1 = emp_income_Saskatchewan_sorted.sort_values(by=['VALUE'], ascending=False).head(1)\n",
        "Saskatchewan_top1"
      ],
      "execution_count": 11,
      "outputs": [
        {
          "output_type": "execute_result",
          "data": {
            "text/html": [
              "<div>\n",
              "<style scoped>\n",
              "    .dataframe tbody tr th:only-of-type {\n",
              "        vertical-align: middle;\n",
              "    }\n",
              "\n",
              "    .dataframe tbody tr th {\n",
              "        vertical-align: top;\n",
              "    }\n",
              "\n",
              "    .dataframe thead th {\n",
              "        text-align: right;\n",
              "    }\n",
              "</style>\n",
              "<table border=\"1\" class=\"dataframe\">\n",
              "  <thead>\n",
              "    <tr style=\"text-align: right;\">\n",
              "      <th></th>\n",
              "      <th>VALUE</th>\n",
              "      <th>Province</th>\n",
              "    </tr>\n",
              "    <tr>\n",
              "      <th>Field of study</th>\n",
              "      <th></th>\n",
              "      <th></th>\n",
              "    </tr>\n",
              "  </thead>\n",
              "  <tbody>\n",
              "    <tr>\n",
              "      <th>Mechanic and repair technologies/technicians [47]</th>\n",
              "      <td>88624.5</td>\n",
              "      <td>SK</td>\n",
              "    </tr>\n",
              "  </tbody>\n",
              "</table>\n",
              "</div>"
            ],
            "text/plain": [
              "                                                     VALUE Province\n",
              "Field of study                                                     \n",
              "Mechanic and repair technologies/technicians [47]  88624.5       SK"
            ]
          },
          "metadata": {
            "tags": []
          },
          "execution_count": 11
        }
      ]
    },
    {
      "cell_type": "markdown",
      "metadata": {
        "id": "kvmqrz8BkhEY",
        "colab_type": "text"
      },
      "source": [
        "*Ontario top 1 field of study of median income*"
      ]
    },
    {
      "cell_type": "code",
      "metadata": {
        "id": "P13hrI4wYuZR",
        "colab_type": "code",
        "colab": {
          "base_uri": "https://localhost:8080/",
          "height": 107
        },
        "outputId": "5e74fadb-18f6-4b53-a479-d3091be5c771"
      },
      "source": [
        "emp_income_Ontario = emp_income_median.loc[emp_income_median['GEO'] == 'Ontario']\n",
        "emp_income_Ontario_sorted = emp_income_Ontario[['Field of study', 'VALUE']].groupby('Field of study').mean()\n",
        "emp_income_Ontario_sorted['Province'] = 'ON'\n",
        "Ontario_top1 = emp_income_Ontario_sorted.sort_values(by=['VALUE'], ascending=False).head(1)\n",
        "Ontario_top1"
      ],
      "execution_count": 12,
      "outputs": [
        {
          "output_type": "execute_result",
          "data": {
            "text/html": [
              "<div>\n",
              "<style scoped>\n",
              "    .dataframe tbody tr th:only-of-type {\n",
              "        vertical-align: middle;\n",
              "    }\n",
              "\n",
              "    .dataframe tbody tr th {\n",
              "        vertical-align: top;\n",
              "    }\n",
              "\n",
              "    .dataframe thead th {\n",
              "        text-align: right;\n",
              "    }\n",
              "</style>\n",
              "<table border=\"1\" class=\"dataframe\">\n",
              "  <thead>\n",
              "    <tr style=\"text-align: right;\">\n",
              "      <th></th>\n",
              "      <th>VALUE</th>\n",
              "      <th>Province</th>\n",
              "    </tr>\n",
              "    <tr>\n",
              "      <th>Field of study</th>\n",
              "      <th></th>\n",
              "      <th></th>\n",
              "    </tr>\n",
              "  </thead>\n",
              "  <tbody>\n",
              "    <tr>\n",
              "      <th>Legal professions and studies [22]</th>\n",
              "      <td>74456.020942</td>\n",
              "      <td>ON</td>\n",
              "    </tr>\n",
              "  </tbody>\n",
              "</table>\n",
              "</div>"
            ],
            "text/plain": [
              "                                           VALUE Province\n",
              "Field of study                                           \n",
              "Legal professions and studies [22]  74456.020942       ON"
            ]
          },
          "metadata": {
            "tags": []
          },
          "execution_count": 12
        }
      ]
    },
    {
      "cell_type": "markdown",
      "metadata": {
        "id": "aA7ezKOllu3B",
        "colab_type": "text"
      },
      "source": [
        "*Quebec top 1 field of study of median income*"
      ]
    },
    {
      "cell_type": "code",
      "metadata": {
        "id": "fjArqftjkehb",
        "colab_type": "code",
        "colab": {
          "base_uri": "https://localhost:8080/",
          "height": 107
        },
        "outputId": "dd611cd1-53b8-4556-c70e-e54be3bb9406"
      },
      "source": [
        "emp_income_Quebec = emp_income_median.loc[emp_income_median['GEO'] == 'Quebec']\n",
        "emp_income_Quebec_sorted = emp_income_Quebec[['Field of study', 'VALUE']].groupby('Field of study').mean()\n",
        "emp_income_Quebec_sorted['Province'] = 'QC'\n",
        "Quebec_top1 = emp_income_Quebec_sorted.sort_values(by=['VALUE'], ascending=False).head(1)\n",
        "Quebec_top1"
      ],
      "execution_count": 13,
      "outputs": [
        {
          "output_type": "execute_result",
          "data": {
            "text/html": [
              "<div>\n",
              "<style scoped>\n",
              "    .dataframe tbody tr th:only-of-type {\n",
              "        vertical-align: middle;\n",
              "    }\n",
              "\n",
              "    .dataframe tbody tr th {\n",
              "        vertical-align: top;\n",
              "    }\n",
              "\n",
              "    .dataframe thead th {\n",
              "        text-align: right;\n",
              "    }\n",
              "</style>\n",
              "<table border=\"1\" class=\"dataframe\">\n",
              "  <thead>\n",
              "    <tr style=\"text-align: right;\">\n",
              "      <th></th>\n",
              "      <th>VALUE</th>\n",
              "      <th>Province</th>\n",
              "    </tr>\n",
              "    <tr>\n",
              "      <th>Field of study</th>\n",
              "      <th></th>\n",
              "      <th></th>\n",
              "    </tr>\n",
              "  </thead>\n",
              "  <tbody>\n",
              "    <tr>\n",
              "      <th>Dental, medical and veterinary residency programs [60]</th>\n",
              "      <td>135787.931034</td>\n",
              "      <td>QC</td>\n",
              "    </tr>\n",
              "  </tbody>\n",
              "</table>\n",
              "</div>"
            ],
            "text/plain": [
              "                                                            VALUE Province\n",
              "Field of study                                                            \n",
              "Dental, medical and veterinary residency progra...  135787.931034       QC"
            ]
          },
          "metadata": {
            "tags": []
          },
          "execution_count": 13
        }
      ]
    },
    {
      "cell_type": "markdown",
      "metadata": {
        "id": "ruHr0fN2nFq1",
        "colab_type": "text"
      },
      "source": [
        "*Newfoundland and Labrador top 1 field of study of median income*"
      ]
    },
    {
      "cell_type": "code",
      "metadata": {
        "id": "1eoiUoL9nEQa",
        "colab_type": "code",
        "colab": {
          "base_uri": "https://localhost:8080/",
          "height": 107
        },
        "outputId": "4d1d4754-3fb7-4b70-f149-103c927c7b56"
      },
      "source": [
        "emp_income_Newfoundland = emp_income_median.loc[emp_income_median['GEO'] == 'Newfoundland and Labrador']\n",
        "emp_income_Newfoundland_sorted = emp_income_Newfoundland[['Field of study', 'VALUE']].groupby('Field of study').mean()\n",
        "emp_income_Newfoundland_sorted['Province'] = 'NL'\n",
        "Newfoundland_top1 = emp_income_Newfoundland_sorted.sort_values(by=['VALUE'], ascending=False).head(1)\n",
        "Newfoundland_top1"
      ],
      "execution_count": 14,
      "outputs": [
        {
          "output_type": "execute_result",
          "data": {
            "text/html": [
              "<div>\n",
              "<style scoped>\n",
              "    .dataframe tbody tr th:only-of-type {\n",
              "        vertical-align: middle;\n",
              "    }\n",
              "\n",
              "    .dataframe tbody tr th {\n",
              "        vertical-align: top;\n",
              "    }\n",
              "\n",
              "    .dataframe thead th {\n",
              "        text-align: right;\n",
              "    }\n",
              "</style>\n",
              "<table border=\"1\" class=\"dataframe\">\n",
              "  <thead>\n",
              "    <tr style=\"text-align: right;\">\n",
              "      <th></th>\n",
              "      <th>VALUE</th>\n",
              "      <th>Province</th>\n",
              "    </tr>\n",
              "    <tr>\n",
              "      <th>Field of study</th>\n",
              "      <th></th>\n",
              "      <th></th>\n",
              "    </tr>\n",
              "  </thead>\n",
              "  <tbody>\n",
              "    <tr>\n",
              "      <th>Engineering [14]</th>\n",
              "      <td>74901.5</td>\n",
              "      <td>NL</td>\n",
              "    </tr>\n",
              "  </tbody>\n",
              "</table>\n",
              "</div>"
            ],
            "text/plain": [
              "                    VALUE Province\n",
              "Field of study                    \n",
              "Engineering [14]  74901.5       NL"
            ]
          },
          "metadata": {
            "tags": []
          },
          "execution_count": 14
        }
      ]
    },
    {
      "cell_type": "markdown",
      "metadata": {
        "id": "UYeoBw3znuwh",
        "colab_type": "text"
      },
      "source": [
        "*Nova Scotia top 1 field of study of median income*"
      ]
    },
    {
      "cell_type": "code",
      "metadata": {
        "id": "_1E_Ec_fntAt",
        "colab_type": "code",
        "colab": {
          "base_uri": "https://localhost:8080/",
          "height": 107
        },
        "outputId": "c6caf5a6-3b38-4497-eeaa-201a70a344ad"
      },
      "source": [
        "emp_income_NovaScotia = emp_income_median.loc[emp_income_median['GEO'] == 'Nova Scotia']\n",
        "emp_income_NovaScotia_sorted = emp_income_NovaScotia[['Field of study', 'VALUE']].groupby('Field of study').mean()\n",
        "emp_income_NovaScotia_sorted['Province'] = 'NS'\n",
        "NovaScotia_top1 = emp_income_NovaScotia_sorted.sort_values(by=['VALUE'], ascending=False).head(1)\n",
        "NovaScotia_top1"
      ],
      "execution_count": 15,
      "outputs": [
        {
          "output_type": "execute_result",
          "data": {
            "text/html": [
              "<div>\n",
              "<style scoped>\n",
              "    .dataframe tbody tr th:only-of-type {\n",
              "        vertical-align: middle;\n",
              "    }\n",
              "\n",
              "    .dataframe tbody tr th {\n",
              "        vertical-align: top;\n",
              "    }\n",
              "\n",
              "    .dataframe thead th {\n",
              "        text-align: right;\n",
              "    }\n",
              "</style>\n",
              "<table border=\"1\" class=\"dataframe\">\n",
              "  <thead>\n",
              "    <tr style=\"text-align: right;\">\n",
              "      <th></th>\n",
              "      <th>VALUE</th>\n",
              "      <th>Province</th>\n",
              "    </tr>\n",
              "    <tr>\n",
              "      <th>Field of study</th>\n",
              "      <th></th>\n",
              "      <th></th>\n",
              "    </tr>\n",
              "  </thead>\n",
              "  <tbody>\n",
              "    <tr>\n",
              "      <th>Legal professions and studies [22]</th>\n",
              "      <td>68497.222222</td>\n",
              "      <td>NS</td>\n",
              "    </tr>\n",
              "  </tbody>\n",
              "</table>\n",
              "</div>"
            ],
            "text/plain": [
              "                                           VALUE Province\n",
              "Field of study                                           \n",
              "Legal professions and studies [22]  68497.222222       NS"
            ]
          },
          "metadata": {
            "tags": []
          },
          "execution_count": 15
        }
      ]
    },
    {
      "cell_type": "markdown",
      "metadata": {
        "id": "fjJY3LcToHnV",
        "colab_type": "text"
      },
      "source": [
        "*New Brunswick top 1 field of study of median income*"
      ]
    },
    {
      "cell_type": "code",
      "metadata": {
        "id": "QPPWH6jGoZcM",
        "colab_type": "code",
        "colab": {
          "base_uri": "https://localhost:8080/",
          "height": 107
        },
        "outputId": "5608aa49-28cf-4012-e13d-12472a34948b"
      },
      "source": [
        "emp_income_NewBrunswick = emp_income_median.loc[emp_income_median['GEO'] == 'New Brunswick']\n",
        "emp_income_NewBrunswick_sorted = emp_income_NewBrunswick[['Field of study', 'VALUE']].groupby('Field of study').mean()\n",
        "emp_income_NewBrunswick_sorted['Province'] = 'NB'\n",
        "NewBrunswick_top1 = emp_income_NewBrunswick_sorted.sort_values(by=['VALUE'], ascending=False).head(1)\n",
        "NewBrunswick_top1"
      ],
      "execution_count": 16,
      "outputs": [
        {
          "output_type": "execute_result",
          "data": {
            "text/html": [
              "<div>\n",
              "<style scoped>\n",
              "    .dataframe tbody tr th:only-of-type {\n",
              "        vertical-align: middle;\n",
              "    }\n",
              "\n",
              "    .dataframe tbody tr th {\n",
              "        vertical-align: top;\n",
              "    }\n",
              "\n",
              "    .dataframe thead th {\n",
              "        text-align: right;\n",
              "    }\n",
              "</style>\n",
              "<table border=\"1\" class=\"dataframe\">\n",
              "  <thead>\n",
              "    <tr style=\"text-align: right;\">\n",
              "      <th></th>\n",
              "      <th>VALUE</th>\n",
              "      <th>Province</th>\n",
              "    </tr>\n",
              "    <tr>\n",
              "      <th>Field of study</th>\n",
              "      <th></th>\n",
              "      <th></th>\n",
              "    </tr>\n",
              "  </thead>\n",
              "  <tbody>\n",
              "    <tr>\n",
              "      <th>Engineering [14]</th>\n",
              "      <td>61865.365854</td>\n",
              "      <td>NB</td>\n",
              "    </tr>\n",
              "  </tbody>\n",
              "</table>\n",
              "</div>"
            ],
            "text/plain": [
              "                         VALUE Province\n",
              "Field of study                         \n",
              "Engineering [14]  61865.365854       NB"
            ]
          },
          "metadata": {
            "tags": []
          },
          "execution_count": 16
        }
      ]
    },
    {
      "cell_type": "markdown",
      "metadata": {
        "id": "DxTPOE0NomuJ",
        "colab_type": "text"
      },
      "source": [
        "*Manitoba top 1 field of study of meidan income*"
      ]
    },
    {
      "cell_type": "code",
      "metadata": {
        "id": "kmHsGlx8okkj",
        "colab_type": "code",
        "colab": {
          "base_uri": "https://localhost:8080/",
          "height": 107
        },
        "outputId": "35c2181b-870f-4511-ec42-1859bec2f01e"
      },
      "source": [
        "emp_income_Manitoba = emp_income_median.loc[emp_income_median['GEO'] == 'Manitoba']\n",
        "emp_income_Manitoba_sorted = emp_income_Manitoba[['Field of study', 'VALUE']].groupby('Field of study').mean()\n",
        "emp_income_Manitoba_sorted['Province'] = 'MB'\n",
        "Manitoba_top1 = emp_income_Manitoba_sorted.sort_values(by=['VALUE'], ascending=False).head(1)\n",
        "Manitoba_top1"
      ],
      "execution_count": 17,
      "outputs": [
        {
          "output_type": "execute_result",
          "data": {
            "text/html": [
              "<div>\n",
              "<style scoped>\n",
              "    .dataframe tbody tr th:only-of-type {\n",
              "        vertical-align: middle;\n",
              "    }\n",
              "\n",
              "    .dataframe tbody tr th {\n",
              "        vertical-align: top;\n",
              "    }\n",
              "\n",
              "    .dataframe thead th {\n",
              "        text-align: right;\n",
              "    }\n",
              "</style>\n",
              "<table border=\"1\" class=\"dataframe\">\n",
              "  <thead>\n",
              "    <tr style=\"text-align: right;\">\n",
              "      <th></th>\n",
              "      <th>VALUE</th>\n",
              "      <th>Province</th>\n",
              "    </tr>\n",
              "    <tr>\n",
              "      <th>Field of study</th>\n",
              "      <th></th>\n",
              "      <th></th>\n",
              "    </tr>\n",
              "  </thead>\n",
              "  <tbody>\n",
              "    <tr>\n",
              "      <th>Interdisciplinary humanities [30A]</th>\n",
              "      <td>92200.0</td>\n",
              "      <td>MB</td>\n",
              "    </tr>\n",
              "  </tbody>\n",
              "</table>\n",
              "</div>"
            ],
            "text/plain": [
              "                                      VALUE Province\n",
              "Field of study                                      \n",
              "Interdisciplinary humanities [30A]  92200.0       MB"
            ]
          },
          "metadata": {
            "tags": []
          },
          "execution_count": 17
        }
      ]
    },
    {
      "cell_type": "markdown",
      "metadata": {
        "id": "C3qE_b8no-lo",
        "colab_type": "text"
      },
      "source": [
        "*British Columbia top 1 field of study of median income*"
      ]
    },
    {
      "cell_type": "code",
      "metadata": {
        "id": "Gz6FfHpGo7DM",
        "colab_type": "code",
        "colab": {
          "base_uri": "https://localhost:8080/",
          "height": 107
        },
        "outputId": "00e2cc4c-7bbe-47ed-e71d-e1bf0097b511"
      },
      "source": [
        "emp_income_BC = emp_income_median.loc[emp_income_median['GEO'] == 'British Columbia']\n",
        "emp_income_BC_sorted = emp_income_BC[['Field of study', 'VALUE']].groupby('Field of study').mean()\n",
        "emp_income_BC_sorted['Province'] = 'BC'\n",
        "BC_top1 = emp_income_BC_sorted.sort_values(by=['VALUE'], ascending=False).head(1)\n",
        "BC_top1"
      ],
      "execution_count": 18,
      "outputs": [
        {
          "output_type": "execute_result",
          "data": {
            "text/html": [
              "<div>\n",
              "<style scoped>\n",
              "    .dataframe tbody tr th:only-of-type {\n",
              "        vertical-align: middle;\n",
              "    }\n",
              "\n",
              "    .dataframe tbody tr th {\n",
              "        vertical-align: top;\n",
              "    }\n",
              "\n",
              "    .dataframe thead th {\n",
              "        text-align: right;\n",
              "    }\n",
              "</style>\n",
              "<table border=\"1\" class=\"dataframe\">\n",
              "  <thead>\n",
              "    <tr style=\"text-align: right;\">\n",
              "      <th></th>\n",
              "      <th>VALUE</th>\n",
              "      <th>Province</th>\n",
              "    </tr>\n",
              "    <tr>\n",
              "      <th>Field of study</th>\n",
              "      <th></th>\n",
              "      <th></th>\n",
              "    </tr>\n",
              "  </thead>\n",
              "  <tbody>\n",
              "    <tr>\n",
              "      <th>Engineering [14]</th>\n",
              "      <td>72355.012225</td>\n",
              "      <td>BC</td>\n",
              "    </tr>\n",
              "  </tbody>\n",
              "</table>\n",
              "</div>"
            ],
            "text/plain": [
              "                         VALUE Province\n",
              "Field of study                         \n",
              "Engineering [14]  72355.012225       BC"
            ]
          },
          "metadata": {
            "tags": []
          },
          "execution_count": 18
        }
      ]
    },
    {
      "cell_type": "markdown",
      "metadata": {
        "id": "8i9xmgwJDY9I",
        "colab_type": "text"
      },
      "source": [
        "*Prince Edward Island top field of study of meadian income*\n"
      ]
    },
    {
      "cell_type": "code",
      "metadata": {
        "id": "vtyuBJvMDYJv",
        "colab_type": "code",
        "colab": {
          "base_uri": "https://localhost:8080/",
          "height": 166
        },
        "outputId": "37e6faa1-f799-4266-80c8-277dd26abd80"
      },
      "source": [
        "emp_income_PEI = emp_income_median.loc[emp_income_median['GEO'] == 'Prince Edward Island']\n",
        "emp_income_PEI_sorted = emp_income_PEI[['Field of study', 'VALUE']].groupby('Field of study').mean()\n",
        "emp_income_PEI_sorted['Province'] = 'PE'\n",
        "PEI_top1 = emp_income_PEI_sorted.sort_values(by=['VALUE'], ascending=False).head(1)\n",
        "PEI_top1.info()"
      ],
      "execution_count": 19,
      "outputs": [
        {
          "output_type": "stream",
          "text": [
            "<class 'pandas.core.frame.DataFrame'>\n",
            "CategoricalIndex: 1 entries, Education [13] to Education [13]\n",
            "Data columns (total 2 columns):\n",
            " #   Column    Non-Null Count  Dtype  \n",
            "---  ------    --------------  -----  \n",
            " 0   VALUE     1 non-null      float64\n",
            " 1   Province  1 non-null      object \n",
            "dtypes: float64(1), object(1)\n",
            "memory usage: 3.0+ KB\n"
          ],
          "name": "stdout"
        }
      ]
    },
    {
      "cell_type": "code",
      "metadata": {
        "id": "HS4WRbU5pZ_P",
        "colab_type": "code",
        "colab": {
          "base_uri": "https://localhost:8080/",
          "height": 377
        },
        "outputId": "a638c278-b99d-4115-a206-13c2a14a2fd9"
      },
      "source": [
        "top1_field_of_study_all_province = pd.concat([BC_top1, Manitoba_top1, NewBrunswick_top1, NovaScotia_top1, Newfoundland_top1, Quebec_top1, Ontario_top1, Saskatchewan_top1, Alberta_top1, PEI_top1])\n",
        "top1_field_of_study_all_province.rename(columns={'VALUE': 'Median Income'}, inplace=True)\n",
        "top1_field_of_study_all_province.sort_values(by=['Median Income'], ascending=False)\n",
        "\n",
        "# The field of study with most median income for each province is as below in descending order. Quebec's top field of study for income is Dental, medical and veterinary residency programs is the highest among all provinces. \n",
        "# It is also intesting to see even though Engineering is the top field of study for median income for 4 provinces - AB, NL, BC and NB. "
      ],
      "execution_count": 23,
      "outputs": [
        {
          "output_type": "execute_result",
          "data": {
            "text/html": [
              "<div>\n",
              "<style scoped>\n",
              "    .dataframe tbody tr th:only-of-type {\n",
              "        vertical-align: middle;\n",
              "    }\n",
              "\n",
              "    .dataframe tbody tr th {\n",
              "        vertical-align: top;\n",
              "    }\n",
              "\n",
              "    .dataframe thead th {\n",
              "        text-align: right;\n",
              "    }\n",
              "</style>\n",
              "<table border=\"1\" class=\"dataframe\">\n",
              "  <thead>\n",
              "    <tr style=\"text-align: right;\">\n",
              "      <th></th>\n",
              "      <th>Median Income</th>\n",
              "      <th>Province</th>\n",
              "    </tr>\n",
              "    <tr>\n",
              "      <th>Field of study</th>\n",
              "      <th></th>\n",
              "      <th></th>\n",
              "    </tr>\n",
              "  </thead>\n",
              "  <tbody>\n",
              "    <tr>\n",
              "      <th>Dental, medical and veterinary residency programs [60]</th>\n",
              "      <td>135787.931034</td>\n",
              "      <td>QC</td>\n",
              "    </tr>\n",
              "    <tr>\n",
              "      <th>Interdisciplinary humanities [30A]</th>\n",
              "      <td>92200.000000</td>\n",
              "      <td>MB</td>\n",
              "    </tr>\n",
              "    <tr>\n",
              "      <th>Mechanic and repair technologies/technicians [47]</th>\n",
              "      <td>88624.500000</td>\n",
              "      <td>SK</td>\n",
              "    </tr>\n",
              "    <tr>\n",
              "      <th>Engineering [14]</th>\n",
              "      <td>85273.239437</td>\n",
              "      <td>AB</td>\n",
              "    </tr>\n",
              "    <tr>\n",
              "      <th>Engineering [14]</th>\n",
              "      <td>74901.500000</td>\n",
              "      <td>NL</td>\n",
              "    </tr>\n",
              "    <tr>\n",
              "      <th>Legal professions and studies [22]</th>\n",
              "      <td>74456.020942</td>\n",
              "      <td>ON</td>\n",
              "    </tr>\n",
              "    <tr>\n",
              "      <th>Engineering [14]</th>\n",
              "      <td>72355.012225</td>\n",
              "      <td>BC</td>\n",
              "    </tr>\n",
              "    <tr>\n",
              "      <th>Legal professions and studies [22]</th>\n",
              "      <td>68497.222222</td>\n",
              "      <td>NS</td>\n",
              "    </tr>\n",
              "    <tr>\n",
              "      <th>Engineering [14]</th>\n",
              "      <td>61865.365854</td>\n",
              "      <td>NB</td>\n",
              "    </tr>\n",
              "    <tr>\n",
              "      <th>Education [13]</th>\n",
              "      <td>56564.024390</td>\n",
              "      <td>PE</td>\n",
              "    </tr>\n",
              "  </tbody>\n",
              "</table>\n",
              "</div>"
            ],
            "text/plain": [
              "                                                    Median Income Province\n",
              "Field of study                                                            \n",
              "Dental, medical and veterinary residency progra...  135787.931034       QC\n",
              "Interdisciplinary humanities [30A]                   92200.000000       MB\n",
              "Mechanic and repair technologies/technicians [47]    88624.500000       SK\n",
              "Engineering [14]                                     85273.239437       AB\n",
              "Engineering [14]                                     74901.500000       NL\n",
              "Legal professions and studies [22]                   74456.020942       ON\n",
              "Engineering [14]                                     72355.012225       BC\n",
              "Legal professions and studies [22]                   68497.222222       NS\n",
              "Engineering [14]                                     61865.365854       NB\n",
              "Education [13]                                       56564.024390       PE"
            ]
          },
          "metadata": {
            "tags": []
          },
          "execution_count": 23
        }
      ]
    },
    {
      "cell_type": "code",
      "metadata": {
        "id": "X5P48o6JiOWZ",
        "colab_type": "code",
        "colab": {
          "base_uri": "https://localhost:8080/",
          "height": 591
        },
        "outputId": "320a632e-ead5-4f65-e200-e69da8969570"
      },
      "source": [
        "top1_field_of_study_all_province['Province'] = top1_field_of_study_all_province['Province'].astype('category')\n",
        "top_field_of_study_among_provinces = top1_field_of_study_all_province[['Province']].groupby('Field of study').count()\n",
        "plot = top_field_of_study_among_provinces.plot.pie(y='Province', figsize=(20, 10), title = \"Field of study with top income among all provinces\")"
      ],
      "execution_count": 54,
      "outputs": [
        {
          "output_type": "display_data",
          "data": {
            "image/png": "[encoded data removed]",
            "text/plain": [
              "<Figure size 1440x720 with 1 Axes>"
            ]
          },
          "metadata": {
            "tags": []
          }
        }
      ]
    },
    {
      "cell_type": "markdown",
      "metadata": {
        "id": "P7zj3QDagUlZ",
        "colab_type": "text"
      },
      "source": [
        "# Conclusion\n",
        "\n",
        "Considering from 2010 to 2015, Alberta has the highest income whereas Prince edward Island has the lowest median income for all field of study. \n",
        "\n",
        "From 2010 to 2015, The top median income in Quebec is employees who graduate with Dental, medical and veterinary residency programs, which is also the highest among all provinces.\n",
        "Howeverm, it is also intesting to see that **Engineering** is the top field of study for median income for 4 provinces - AB, NL, BC and NB, which has the highest percentage of field of study being the top median income among all provinces. \n"
      ]
    }
  ]
}